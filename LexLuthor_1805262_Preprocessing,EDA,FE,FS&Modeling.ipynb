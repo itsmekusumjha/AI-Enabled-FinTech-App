{
 "cells": [
  {
   "cell_type": "code",
   "execution_count": 251,
   "metadata": {},
   "outputs": [],
   "source": [
    "#importing library\n",
    "import pandas as pd\n",
    "import numpy as np\n",
    "import matplotlib.pyplot as plt\n",
    "from sklearn.model_selection import train_test_split\n",
    "import seaborn as sns\n",
    "from sklearn.feature_selection import VarianceThreshold\n",
    "from datetime import date\n",
    "from sklearn.preprocessing import LabelEncoder\n",
    "label=LabelEncoder()\n",
    "# Modeling & Accuracy Metrics\n",
    "from sklearn.ensemble import RandomForestClassifier\n",
    "from sklearn.metrics import classification_report, confusion_matrix\n",
    "from sklearn.metrics import mean_squared_error\n",
    "from sklearn.metrics import r2_score\n",
    "\n",
    "\n",
    "# Filtering out the warnings after Cell Execution\n",
    "import warnings\n",
    "warnings.filterwarnings('ignore')"
   ]
  },
  {
   "cell_type": "markdown",
   "metadata": {},
   "source": [
    "# SLICING DATA "
   ]
  },
  {
   "cell_type": "code",
   "execution_count": 252,
   "metadata": {},
   "outputs": [
    {
     "data": {
      "text/html": [
       "<div>\n",
       "<style scoped>\n",
       "    .dataframe tbody tr th:only-of-type {\n",
       "        vertical-align: middle;\n",
       "    }\n",
       "\n",
       "    .dataframe tbody tr th {\n",
       "        vertical-align: top;\n",
       "    }\n",
       "\n",
       "    .dataframe thead th {\n",
       "        text-align: right;\n",
       "    }\n",
       "</style>\n",
       "<table border=\"1\" class=\"dataframe\">\n",
       "  <thead>\n",
       "    <tr style=\"text-align: right;\">\n",
       "      <th></th>\n",
       "      <th>business_code</th>\n",
       "      <th>cust_number</th>\n",
       "      <th>name_customer</th>\n",
       "      <th>clear_date</th>\n",
       "      <th>buisness_year</th>\n",
       "      <th>doc_id</th>\n",
       "      <th>posting_date</th>\n",
       "      <th>document_create_date</th>\n",
       "      <th>document_create_date.1</th>\n",
       "      <th>due_in_date</th>\n",
       "      <th>invoice_currency</th>\n",
       "      <th>document type</th>\n",
       "      <th>posting_id</th>\n",
       "      <th>area_business</th>\n",
       "      <th>total_open_amount</th>\n",
       "      <th>baseline_create_date</th>\n",
       "      <th>cust_payment_terms</th>\n",
       "      <th>invoice_id</th>\n",
       "      <th>isOpen</th>\n",
       "    </tr>\n",
       "  </thead>\n",
       "  <tbody>\n",
       "    <tr>\n",
       "      <th>0</th>\n",
       "      <td>U001</td>\n",
       "      <td>0200795490</td>\n",
       "      <td>HY -  co</td>\n",
       "      <td>2020-01-16 00:00:00</td>\n",
       "      <td>2020.0</td>\n",
       "      <td>1.930337e+09</td>\n",
       "      <td>2019-12-31</td>\n",
       "      <td>20191231</td>\n",
       "      <td>20191231</td>\n",
       "      <td>20200115.0</td>\n",
       "      <td>USD</td>\n",
       "      <td>RV</td>\n",
       "      <td>1.0</td>\n",
       "      <td>NaN</td>\n",
       "      <td>15497.54</td>\n",
       "      <td>20191231.0</td>\n",
       "      <td>NAA8</td>\n",
       "      <td>1.930337e+09</td>\n",
       "      <td>0</td>\n",
       "    </tr>\n",
       "    <tr>\n",
       "      <th>1</th>\n",
       "      <td>U001</td>\n",
       "      <td>0200739534</td>\n",
       "      <td>OK llc</td>\n",
       "      <td>2019-12-27 00:00:00</td>\n",
       "      <td>2019.0</td>\n",
       "      <td>1.930273e+09</td>\n",
       "      <td>2019-12-12</td>\n",
       "      <td>20191212</td>\n",
       "      <td>20191212</td>\n",
       "      <td>20191227.0</td>\n",
       "      <td>USD</td>\n",
       "      <td>RV</td>\n",
       "      <td>1.0</td>\n",
       "      <td>NaN</td>\n",
       "      <td>91923.51</td>\n",
       "      <td>20191212.0</td>\n",
       "      <td>NAA8</td>\n",
       "      <td>1.930273e+09</td>\n",
       "      <td>0</td>\n",
       "    </tr>\n",
       "    <tr>\n",
       "      <th>2</th>\n",
       "      <td>U001</td>\n",
       "      <td>0200769623</td>\n",
       "      <td>WAL-MAR</td>\n",
       "      <td>2019-05-08 00:00:00</td>\n",
       "      <td>2019.0</td>\n",
       "      <td>1.929211e+09</td>\n",
       "      <td>2019-04-25</td>\n",
       "      <td>20190426</td>\n",
       "      <td>20190425</td>\n",
       "      <td>20190510.0</td>\n",
       "      <td>USD</td>\n",
       "      <td>RV</td>\n",
       "      <td>1.0</td>\n",
       "      <td>NaN</td>\n",
       "      <td>44707.23</td>\n",
       "      <td>20190425.0</td>\n",
       "      <td>NAH4</td>\n",
       "      <td>1.929211e+09</td>\n",
       "      <td>0</td>\n",
       "    </tr>\n",
       "    <tr>\n",
       "      <th>3</th>\n",
       "      <td>CA02</td>\n",
       "      <td>0140104429</td>\n",
       "      <td>COSTCO co</td>\n",
       "      <td>2020-01-31 00:00:00</td>\n",
       "      <td>2020.0</td>\n",
       "      <td>2.960605e+09</td>\n",
       "      <td>2020-01-06</td>\n",
       "      <td>20200106</td>\n",
       "      <td>20200106</td>\n",
       "      <td>20200126.0</td>\n",
       "      <td>CAD</td>\n",
       "      <td>RV</td>\n",
       "      <td>1.0</td>\n",
       "      <td>NaN</td>\n",
       "      <td>40382.41</td>\n",
       "      <td>20200116.0</td>\n",
       "      <td>CA10</td>\n",
       "      <td>2.960605e+09</td>\n",
       "      <td>0</td>\n",
       "    </tr>\n",
       "    <tr>\n",
       "      <th>4</th>\n",
       "      <td>U001</td>\n",
       "      <td>0200416837</td>\n",
       "      <td>DEC corporation</td>\n",
       "      <td>2019-06-25 00:00:00</td>\n",
       "      <td>2019.0</td>\n",
       "      <td>1.929514e+09</td>\n",
       "      <td>2019-06-19</td>\n",
       "      <td>20190619</td>\n",
       "      <td>20190619</td>\n",
       "      <td>20190623.0</td>\n",
       "      <td>USD</td>\n",
       "      <td>RV</td>\n",
       "      <td>1.0</td>\n",
       "      <td>NaN</td>\n",
       "      <td>6803.28</td>\n",
       "      <td>20190616.0</td>\n",
       "      <td>NAM1</td>\n",
       "      <td>1.929514e+09</td>\n",
       "      <td>0</td>\n",
       "    </tr>\n",
       "  </tbody>\n",
       "</table>\n",
       "</div>"
      ],
      "text/plain": [
       "  business_code cust_number    name_customer           clear_date  \\\n",
       "0          U001  0200795490         HY -  co  2020-01-16 00:00:00   \n",
       "1          U001  0200739534           OK llc  2019-12-27 00:00:00   \n",
       "2          U001  0200769623         WAL-MAR   2019-05-08 00:00:00   \n",
       "3          CA02  0140104429        COSTCO co  2020-01-31 00:00:00   \n",
       "4          U001  0200416837  DEC corporation  2019-06-25 00:00:00   \n",
       "\n",
       "   buisness_year        doc_id posting_date  document_create_date  \\\n",
       "0         2020.0  1.930337e+09   2019-12-31              20191231   \n",
       "1         2019.0  1.930273e+09   2019-12-12              20191212   \n",
       "2         2019.0  1.929211e+09   2019-04-25              20190426   \n",
       "3         2020.0  2.960605e+09   2020-01-06              20200106   \n",
       "4         2019.0  1.929514e+09   2019-06-19              20190619   \n",
       "\n",
       "   document_create_date.1  due_in_date invoice_currency document type  \\\n",
       "0                20191231   20200115.0              USD            RV   \n",
       "1                20191212   20191227.0              USD            RV   \n",
       "2                20190425   20190510.0              USD            RV   \n",
       "3                20200106   20200126.0              CAD            RV   \n",
       "4                20190619   20190623.0              USD            RV   \n",
       "\n",
       "   posting_id  area_business  total_open_amount  baseline_create_date  \\\n",
       "0         1.0            NaN           15497.54            20191231.0   \n",
       "1         1.0            NaN           91923.51            20191212.0   \n",
       "2         1.0            NaN           44707.23            20190425.0   \n",
       "3         1.0            NaN           40382.41            20200116.0   \n",
       "4         1.0            NaN            6803.28            20190616.0   \n",
       "\n",
       "  cust_payment_terms    invoice_id  isOpen  \n",
       "0               NAA8  1.930337e+09       0  \n",
       "1               NAA8  1.930273e+09       0  \n",
       "2               NAH4  1.929211e+09       0  \n",
       "3               CA10  2.960605e+09       0  \n",
       "4               NAM1  1.929514e+09       0  "
      ]
     },
     "execution_count": 252,
     "metadata": {},
     "output_type": "execute_result"
    }
   ],
   "source": [
    "#loading dataset\n",
    "data_o=pd.read_csv(r\"C:\\Users\\KIIT\\Downloads\\1805262.csv\")\n",
    "data_o.head()"
   ]
  },
  {
   "cell_type": "code",
   "execution_count": 253,
   "metadata": {},
   "outputs": [
    {
     "data": {
      "text/plain": [
       "(50000, 19)"
      ]
     },
     "execution_count": 253,
     "metadata": {},
     "output_type": "execute_result"
    }
   ],
   "source": [
    "#checking shape of dataset\n",
    "data_o.shape"
   ]
  },
  {
   "cell_type": "code",
   "execution_count": 254,
   "metadata": {},
   "outputs": [
    {
     "data": {
      "text/plain": [
       "business_code                 0\n",
       "cust_number                   0\n",
       "name_customer                 0\n",
       "clear_date                 3432\n",
       "buisness_year                 0\n",
       "doc_id                        0\n",
       "posting_date                  0\n",
       "document_create_date          0\n",
       "document_create_date.1        0\n",
       "due_in_date                   0\n",
       "invoice_currency              0\n",
       "document type                 0\n",
       "posting_id                    0\n",
       "area_business             50000\n",
       "total_open_amount             0\n",
       "baseline_create_date          0\n",
       "cust_payment_terms            0\n",
       "invoice_id                    6\n",
       "isOpen                        0\n",
       "dtype: int64"
      ]
     },
     "execution_count": 254,
     "metadata": {},
     "output_type": "execute_result"
    }
   ],
   "source": [
    "#finding column with no. of null\n",
    "data_o.isnull().sum()"
   ]
  },
  {
   "cell_type": "code",
   "execution_count": 255,
   "metadata": {},
   "outputs": [
    {
     "data": {
      "text/html": [
       "<div>\n",
       "<style scoped>\n",
       "    .dataframe tbody tr th:only-of-type {\n",
       "        vertical-align: middle;\n",
       "    }\n",
       "\n",
       "    .dataframe tbody tr th {\n",
       "        vertical-align: top;\n",
       "    }\n",
       "\n",
       "    .dataframe thead th {\n",
       "        text-align: right;\n",
       "    }\n",
       "</style>\n",
       "<table border=\"1\" class=\"dataframe\">\n",
       "  <thead>\n",
       "    <tr style=\"text-align: right;\">\n",
       "      <th></th>\n",
       "      <th>business_code</th>\n",
       "      <th>cust_number</th>\n",
       "      <th>name_customer</th>\n",
       "      <th>clear_date</th>\n",
       "      <th>buisness_year</th>\n",
       "      <th>doc_id</th>\n",
       "      <th>posting_date</th>\n",
       "      <th>document_create_date</th>\n",
       "      <th>document_create_date.1</th>\n",
       "      <th>due_in_date</th>\n",
       "      <th>invoice_currency</th>\n",
       "      <th>document type</th>\n",
       "      <th>posting_id</th>\n",
       "      <th>area_business</th>\n",
       "      <th>total_open_amount</th>\n",
       "      <th>baseline_create_date</th>\n",
       "      <th>cust_payment_terms</th>\n",
       "      <th>invoice_id</th>\n",
       "      <th>isOpen</th>\n",
       "    </tr>\n",
       "  </thead>\n",
       "  <tbody>\n",
       "    <tr>\n",
       "      <th>0</th>\n",
       "      <td>U001</td>\n",
       "      <td>0200762301</td>\n",
       "      <td>C&amp;S WH systems</td>\n",
       "      <td>NaN</td>\n",
       "      <td>2020.0</td>\n",
       "      <td>1.930797e+09</td>\n",
       "      <td>2020-04-17</td>\n",
       "      <td>20200418</td>\n",
       "      <td>20200417</td>\n",
       "      <td>20200502.0</td>\n",
       "      <td>USD</td>\n",
       "      <td>RV</td>\n",
       "      <td>1.0</td>\n",
       "      <td>NaN</td>\n",
       "      <td>67617.27</td>\n",
       "      <td>20200417.0</td>\n",
       "      <td>NAC6</td>\n",
       "      <td>1.930797e+09</td>\n",
       "      <td>1</td>\n",
       "    </tr>\n",
       "    <tr>\n",
       "      <th>1</th>\n",
       "      <td>U001</td>\n",
       "      <td>0200794332</td>\n",
       "      <td>COST corporation</td>\n",
       "      <td>NaN</td>\n",
       "      <td>2020.0</td>\n",
       "      <td>1.930632e+09</td>\n",
       "      <td>2020-03-12</td>\n",
       "      <td>20200310</td>\n",
       "      <td>20200312</td>\n",
       "      <td>20200327.0</td>\n",
       "      <td>USD</td>\n",
       "      <td>RV</td>\n",
       "      <td>1.0</td>\n",
       "      <td>NaN</td>\n",
       "      <td>8793.09</td>\n",
       "      <td>20200312.0</td>\n",
       "      <td>NAAX</td>\n",
       "      <td>1.930632e+09</td>\n",
       "      <td>1</td>\n",
       "    </tr>\n",
       "    <tr>\n",
       "      <th>2</th>\n",
       "      <td>U013</td>\n",
       "      <td>0140103335</td>\n",
       "      <td>PARAM associates</td>\n",
       "      <td>NaN</td>\n",
       "      <td>2020.0</td>\n",
       "      <td>1.991842e+09</td>\n",
       "      <td>2020-04-10</td>\n",
       "      <td>20200406</td>\n",
       "      <td>20200410</td>\n",
       "      <td>20200510.0</td>\n",
       "      <td>USD</td>\n",
       "      <td>RV</td>\n",
       "      <td>1.0</td>\n",
       "      <td>NaN</td>\n",
       "      <td>1868.40</td>\n",
       "      <td>20200410.0</td>\n",
       "      <td>NAVE</td>\n",
       "      <td>1.991842e+09</td>\n",
       "      <td>1</td>\n",
       "    </tr>\n",
       "    <tr>\n",
       "      <th>3</th>\n",
       "      <td>U001</td>\n",
       "      <td>0200769623</td>\n",
       "      <td>WAL-MAR foundation</td>\n",
       "      <td>NaN</td>\n",
       "      <td>2020.0</td>\n",
       "      <td>1.930814e+09</td>\n",
       "      <td>2020-04-23</td>\n",
       "      <td>20200422</td>\n",
       "      <td>20200423</td>\n",
       "      <td>20200508.0</td>\n",
       "      <td>USD</td>\n",
       "      <td>RV</td>\n",
       "      <td>1.0</td>\n",
       "      <td>NaN</td>\n",
       "      <td>307.48</td>\n",
       "      <td>20200423.0</td>\n",
       "      <td>NAH4</td>\n",
       "      <td>1.930814e+09</td>\n",
       "      <td>1</td>\n",
       "    </tr>\n",
       "    <tr>\n",
       "      <th>4</th>\n",
       "      <td>U001</td>\n",
       "      <td>0200744019</td>\n",
       "      <td>TARG trust</td>\n",
       "      <td>NaN</td>\n",
       "      <td>2020.0</td>\n",
       "      <td>1.930690e+09</td>\n",
       "      <td>2020-03-25</td>\n",
       "      <td>20200324</td>\n",
       "      <td>20200325</td>\n",
       "      <td>20200409.0</td>\n",
       "      <td>USD</td>\n",
       "      <td>RV</td>\n",
       "      <td>1.0</td>\n",
       "      <td>NaN</td>\n",
       "      <td>4293.12</td>\n",
       "      <td>20200325.0</td>\n",
       "      <td>NAA8</td>\n",
       "      <td>1.930690e+09</td>\n",
       "      <td>1</td>\n",
       "    </tr>\n",
       "  </tbody>\n",
       "</table>\n",
       "</div>"
      ],
      "text/plain": [
       "  business_code cust_number       name_customer clear_date  buisness_year  \\\n",
       "0          U001  0200762301      C&S WH systems        NaN         2020.0   \n",
       "1          U001  0200794332    COST corporation        NaN         2020.0   \n",
       "2          U013  0140103335    PARAM associates        NaN         2020.0   \n",
       "3          U001  0200769623  WAL-MAR foundation        NaN         2020.0   \n",
       "4          U001  0200744019          TARG trust        NaN         2020.0   \n",
       "\n",
       "         doc_id posting_date  document_create_date  document_create_date.1  \\\n",
       "0  1.930797e+09   2020-04-17              20200418                20200417   \n",
       "1  1.930632e+09   2020-03-12              20200310                20200312   \n",
       "2  1.991842e+09   2020-04-10              20200406                20200410   \n",
       "3  1.930814e+09   2020-04-23              20200422                20200423   \n",
       "4  1.930690e+09   2020-03-25              20200324                20200325   \n",
       "\n",
       "   due_in_date invoice_currency document type  posting_id  area_business  \\\n",
       "0   20200502.0              USD            RV         1.0            NaN   \n",
       "1   20200327.0              USD            RV         1.0            NaN   \n",
       "2   20200510.0              USD            RV         1.0            NaN   \n",
       "3   20200508.0              USD            RV         1.0            NaN   \n",
       "4   20200409.0              USD            RV         1.0            NaN   \n",
       "\n",
       "   total_open_amount  baseline_create_date cust_payment_terms    invoice_id  \\\n",
       "0           67617.27            20200417.0               NAC6  1.930797e+09   \n",
       "1            8793.09            20200312.0               NAAX  1.930632e+09   \n",
       "2            1868.40            20200410.0               NAVE  1.991842e+09   \n",
       "3             307.48            20200423.0               NAH4  1.930814e+09   \n",
       "4            4293.12            20200325.0               NAA8  1.930690e+09   \n",
       "\n",
       "   isOpen  \n",
       "0       1  \n",
       "1       1  \n",
       "2       1  \n",
       "3       1  \n",
       "4       1  "
      ]
     },
     "execution_count": 255,
     "metadata": {},
     "output_type": "execute_result"
    }
   ],
   "source": [
    " #we are storing records with clear_date is null, \n",
    "test_set = data_o[data_o['clear_date'].isna()]\n",
    "test_set.reset_index(drop=True,inplace=True)\n",
    "test_set.head()\n"
   ]
  },
  {
   "cell_type": "code",
   "execution_count": 256,
   "metadata": {},
   "outputs": [
    {
     "data": {
      "text/html": [
       "<div>\n",
       "<style scoped>\n",
       "    .dataframe tbody tr th:only-of-type {\n",
       "        vertical-align: middle;\n",
       "    }\n",
       "\n",
       "    .dataframe tbody tr th {\n",
       "        vertical-align: top;\n",
       "    }\n",
       "\n",
       "    .dataframe thead th {\n",
       "        text-align: right;\n",
       "    }\n",
       "</style>\n",
       "<table border=\"1\" class=\"dataframe\">\n",
       "  <thead>\n",
       "    <tr style=\"text-align: right;\">\n",
       "      <th></th>\n",
       "      <th>business_code</th>\n",
       "      <th>cust_number</th>\n",
       "      <th>name_customer</th>\n",
       "      <th>clear_date</th>\n",
       "      <th>buisness_year</th>\n",
       "      <th>doc_id</th>\n",
       "      <th>posting_date</th>\n",
       "      <th>document_create_date</th>\n",
       "      <th>document_create_date.1</th>\n",
       "      <th>due_in_date</th>\n",
       "      <th>invoice_currency</th>\n",
       "      <th>document type</th>\n",
       "      <th>posting_id</th>\n",
       "      <th>area_business</th>\n",
       "      <th>total_open_amount</th>\n",
       "      <th>baseline_create_date</th>\n",
       "      <th>cust_payment_terms</th>\n",
       "      <th>invoice_id</th>\n",
       "      <th>isOpen</th>\n",
       "    </tr>\n",
       "  </thead>\n",
       "  <tbody>\n",
       "    <tr>\n",
       "      <th>0</th>\n",
       "      <td>U001</td>\n",
       "      <td>0200795490</td>\n",
       "      <td>HY -  co</td>\n",
       "      <td>2020-01-16 00:00:00</td>\n",
       "      <td>2020.0</td>\n",
       "      <td>1.930337e+09</td>\n",
       "      <td>2019-12-31</td>\n",
       "      <td>20191231</td>\n",
       "      <td>20191231</td>\n",
       "      <td>20200115.0</td>\n",
       "      <td>USD</td>\n",
       "      <td>RV</td>\n",
       "      <td>1.0</td>\n",
       "      <td>NaN</td>\n",
       "      <td>15497.54</td>\n",
       "      <td>20191231.0</td>\n",
       "      <td>NAA8</td>\n",
       "      <td>1.930337e+09</td>\n",
       "      <td>0</td>\n",
       "    </tr>\n",
       "    <tr>\n",
       "      <th>1</th>\n",
       "      <td>U001</td>\n",
       "      <td>0200739534</td>\n",
       "      <td>OK llc</td>\n",
       "      <td>2019-12-27 00:00:00</td>\n",
       "      <td>2019.0</td>\n",
       "      <td>1.930273e+09</td>\n",
       "      <td>2019-12-12</td>\n",
       "      <td>20191212</td>\n",
       "      <td>20191212</td>\n",
       "      <td>20191227.0</td>\n",
       "      <td>USD</td>\n",
       "      <td>RV</td>\n",
       "      <td>1.0</td>\n",
       "      <td>NaN</td>\n",
       "      <td>91923.51</td>\n",
       "      <td>20191212.0</td>\n",
       "      <td>NAA8</td>\n",
       "      <td>1.930273e+09</td>\n",
       "      <td>0</td>\n",
       "    </tr>\n",
       "    <tr>\n",
       "      <th>2</th>\n",
       "      <td>U001</td>\n",
       "      <td>0200769623</td>\n",
       "      <td>WAL-MAR</td>\n",
       "      <td>2019-05-08 00:00:00</td>\n",
       "      <td>2019.0</td>\n",
       "      <td>1.929211e+09</td>\n",
       "      <td>2019-04-25</td>\n",
       "      <td>20190426</td>\n",
       "      <td>20190425</td>\n",
       "      <td>20190510.0</td>\n",
       "      <td>USD</td>\n",
       "      <td>RV</td>\n",
       "      <td>1.0</td>\n",
       "      <td>NaN</td>\n",
       "      <td>44707.23</td>\n",
       "      <td>20190425.0</td>\n",
       "      <td>NAH4</td>\n",
       "      <td>1.929211e+09</td>\n",
       "      <td>0</td>\n",
       "    </tr>\n",
       "    <tr>\n",
       "      <th>3</th>\n",
       "      <td>CA02</td>\n",
       "      <td>0140104429</td>\n",
       "      <td>COSTCO co</td>\n",
       "      <td>2020-01-31 00:00:00</td>\n",
       "      <td>2020.0</td>\n",
       "      <td>2.960605e+09</td>\n",
       "      <td>2020-01-06</td>\n",
       "      <td>20200106</td>\n",
       "      <td>20200106</td>\n",
       "      <td>20200126.0</td>\n",
       "      <td>CAD</td>\n",
       "      <td>RV</td>\n",
       "      <td>1.0</td>\n",
       "      <td>NaN</td>\n",
       "      <td>40382.41</td>\n",
       "      <td>20200116.0</td>\n",
       "      <td>CA10</td>\n",
       "      <td>2.960605e+09</td>\n",
       "      <td>0</td>\n",
       "    </tr>\n",
       "    <tr>\n",
       "      <th>4</th>\n",
       "      <td>U001</td>\n",
       "      <td>0200416837</td>\n",
       "      <td>DEC corporation</td>\n",
       "      <td>2019-06-25 00:00:00</td>\n",
       "      <td>2019.0</td>\n",
       "      <td>1.929514e+09</td>\n",
       "      <td>2019-06-19</td>\n",
       "      <td>20190619</td>\n",
       "      <td>20190619</td>\n",
       "      <td>20190623.0</td>\n",
       "      <td>USD</td>\n",
       "      <td>RV</td>\n",
       "      <td>1.0</td>\n",
       "      <td>NaN</td>\n",
       "      <td>6803.28</td>\n",
       "      <td>20190616.0</td>\n",
       "      <td>NAM1</td>\n",
       "      <td>1.929514e+09</td>\n",
       "      <td>0</td>\n",
       "    </tr>\n",
       "  </tbody>\n",
       "</table>\n",
       "</div>"
      ],
      "text/plain": [
       "  business_code cust_number    name_customer           clear_date  \\\n",
       "0          U001  0200795490         HY -  co  2020-01-16 00:00:00   \n",
       "1          U001  0200739534           OK llc  2019-12-27 00:00:00   \n",
       "2          U001  0200769623         WAL-MAR   2019-05-08 00:00:00   \n",
       "3          CA02  0140104429        COSTCO co  2020-01-31 00:00:00   \n",
       "4          U001  0200416837  DEC corporation  2019-06-25 00:00:00   \n",
       "\n",
       "   buisness_year        doc_id posting_date  document_create_date  \\\n",
       "0         2020.0  1.930337e+09   2019-12-31              20191231   \n",
       "1         2019.0  1.930273e+09   2019-12-12              20191212   \n",
       "2         2019.0  1.929211e+09   2019-04-25              20190426   \n",
       "3         2020.0  2.960605e+09   2020-01-06              20200106   \n",
       "4         2019.0  1.929514e+09   2019-06-19              20190619   \n",
       "\n",
       "   document_create_date.1  due_in_date invoice_currency document type  \\\n",
       "0                20191231   20200115.0              USD            RV   \n",
       "1                20191212   20191227.0              USD            RV   \n",
       "2                20190425   20190510.0              USD            RV   \n",
       "3                20200106   20200126.0              CAD            RV   \n",
       "4                20190619   20190623.0              USD            RV   \n",
       "\n",
       "   posting_id  area_business  total_open_amount  baseline_create_date  \\\n",
       "0         1.0            NaN           15497.54            20191231.0   \n",
       "1         1.0            NaN           91923.51            20191212.0   \n",
       "2         1.0            NaN           44707.23            20190425.0   \n",
       "3         1.0            NaN           40382.41            20200116.0   \n",
       "4         1.0            NaN            6803.28            20190616.0   \n",
       "\n",
       "  cust_payment_terms    invoice_id  isOpen  \n",
       "0               NAA8  1.930337e+09       0  \n",
       "1               NAA8  1.930273e+09       0  \n",
       "2               NAH4  1.929211e+09       0  \n",
       "3               CA10  2.960605e+09       0  \n",
       "4               NAM1  1.929514e+09       0  "
      ]
     },
     "execution_count": 256,
     "metadata": {},
     "output_type": "execute_result"
    }
   ],
   "source": [
    "\n",
    "#dropping the record which have clear_date is euql to null\n",
    "data=data_o.dropna(axis=0,subset=['clear_date'])\n",
    "data.reset_index(inplace=True, drop=True)\n",
    "data.head()\n"
   ]
  },
  {
   "cell_type": "code",
   "execution_count": 257,
   "metadata": {},
   "outputs": [
    {
     "data": {
      "text/plain": [
       "(46568, 19)"
      ]
     },
     "execution_count": 257,
     "metadata": {},
     "output_type": "execute_result"
    }
   ],
   "source": [
    "data.shape"
   ]
  },
  {
   "cell_type": "code",
   "execution_count": 258,
   "metadata": {},
   "outputs": [
    {
     "data": {
      "text/plain": [
       "business_code                 0\n",
       "cust_number                   0\n",
       "name_customer                 0\n",
       "clear_date                    0\n",
       "buisness_year                 0\n",
       "doc_id                        0\n",
       "posting_date                  0\n",
       "document_create_date          0\n",
       "document_create_date.1        0\n",
       "due_in_date                   0\n",
       "invoice_currency              0\n",
       "document type                 0\n",
       "posting_id                    0\n",
       "area_business             46568\n",
       "total_open_amount             0\n",
       "baseline_create_date          0\n",
       "cust_payment_terms            0\n",
       "invoice_id                    6\n",
       "isOpen                        0\n",
       "dtype: int64"
      ]
     },
     "execution_count": 258,
     "metadata": {},
     "output_type": "execute_result"
    }
   ],
   "source": [
    "data.isnull().sum()"
   ]
  },
  {
   "cell_type": "code",
   "execution_count": 259,
   "metadata": {},
   "outputs": [],
   "source": [
    "# no record have clear_date as null"
   ]
  },
  {
   "cell_type": "markdown",
   "metadata": {},
   "source": [
    "# PREPROCESSING"
   ]
  },
  {
   "cell_type": "code",
   "execution_count": 260,
   "metadata": {},
   "outputs": [
    {
     "data": {
      "text/plain": [
       "business_code              object\n",
       "cust_number                object\n",
       "name_customer              object\n",
       "clear_date                 object\n",
       "buisness_year             float64\n",
       "doc_id                    float64\n",
       "posting_date               object\n",
       "document_create_date        int64\n",
       "document_create_date.1      int64\n",
       "due_in_date               float64\n",
       "invoice_currency           object\n",
       "document type              object\n",
       "posting_id                float64\n",
       "area_business             float64\n",
       "total_open_amount         float64\n",
       "baseline_create_date      float64\n",
       "cust_payment_terms         object\n",
       "invoice_id                float64\n",
       "isOpen                      int64\n",
       "dtype: object"
      ]
     },
     "execution_count": 260,
     "metadata": {},
     "output_type": "execute_result"
    }
   ],
   "source": [
    "#checking datatype  column\n",
    "data.dtypes"
   ]
  },
  {
   "cell_type": "code",
   "execution_count": 261,
   "metadata": {},
   "outputs": [],
   "source": [
    "#converting float to datetime\n",
    "data['due_in_date']=pd.to_datetime(data['due_in_date'],format='%Y%m%d') "
   ]
  },
  {
   "cell_type": "code",
   "execution_count": 262,
   "metadata": {},
   "outputs": [],
   "source": [
    "data['baseline_create_date']=pd.to_datetime(data['baseline_create_date'],format='%Y%m%d %H:%M:%S.%f') \n",
    "#converting object into datetime "
   ]
  },
  {
   "cell_type": "code",
   "execution_count": 263,
   "metadata": {},
   "outputs": [],
   "source": [
    "data['clear_date']=pd.to_datetime(data_o['clear_date'],format='%Y%m%d %H:%M:%S.%f')\n",
    "#converting float into datetime "
   ]
  },
  {
   "cell_type": "code",
   "execution_count": 264,
   "metadata": {},
   "outputs": [],
   "source": [
    "data['document_create_date']=pd.to_datetime(data['document_create_date'],format='%Y%m%d')\n",
    "#converting int to datetime"
   ]
  },
  {
   "cell_type": "code",
   "execution_count": 265,
   "metadata": {},
   "outputs": [],
   "source": [
    "data['document_create_date.1']=pd.to_datetime(data['document_create_date.1'],format='%Y%m%d')"
   ]
  },
  {
   "cell_type": "markdown",
   "metadata": {},
   "source": [
    "***creating Target column***"
   ]
  },
  {
   "cell_type": "code",
   "execution_count": 266,
   "metadata": {},
   "outputs": [],
   "source": [
    "#so now we will make a new column as delay_days which will be our target column\n",
    "def delay_days(dataframe):\n",
    "    dataframe[\"delay_days\"] = dataframe[\"clear_date\"]-dataframe[\"due_in_date\"]"
   ]
  },
  {
   "cell_type": "code",
   "execution_count": 267,
   "metadata": {},
   "outputs": [],
   "source": [
    "data['delay_days']=(data['clear_date']-data['due_in_date']).dt.days\n"
   ]
  },
  {
   "cell_type": "code",
   "execution_count": 268,
   "metadata": {},
   "outputs": [],
   "source": [
    "delay_days(test_set)\n"
   ]
  },
  {
   "cell_type": "code",
   "execution_count": 269,
   "metadata": {},
   "outputs": [
    {
     "data": {
      "text/html": [
       "<div>\n",
       "<style scoped>\n",
       "    .dataframe tbody tr th:only-of-type {\n",
       "        vertical-align: middle;\n",
       "    }\n",
       "\n",
       "    .dataframe tbody tr th {\n",
       "        vertical-align: top;\n",
       "    }\n",
       "\n",
       "    .dataframe thead th {\n",
       "        text-align: right;\n",
       "    }\n",
       "</style>\n",
       "<table border=\"1\" class=\"dataframe\">\n",
       "  <thead>\n",
       "    <tr style=\"text-align: right;\">\n",
       "      <th></th>\n",
       "      <th>business_code</th>\n",
       "      <th>cust_number</th>\n",
       "      <th>name_customer</th>\n",
       "      <th>clear_date</th>\n",
       "      <th>buisness_year</th>\n",
       "      <th>doc_id</th>\n",
       "      <th>posting_date</th>\n",
       "      <th>document_create_date</th>\n",
       "      <th>document_create_date.1</th>\n",
       "      <th>due_in_date</th>\n",
       "      <th>invoice_currency</th>\n",
       "      <th>document type</th>\n",
       "      <th>posting_id</th>\n",
       "      <th>area_business</th>\n",
       "      <th>total_open_amount</th>\n",
       "      <th>baseline_create_date</th>\n",
       "      <th>cust_payment_terms</th>\n",
       "      <th>invoice_id</th>\n",
       "      <th>isOpen</th>\n",
       "      <th>delay_days</th>\n",
       "    </tr>\n",
       "  </thead>\n",
       "  <tbody>\n",
       "    <tr>\n",
       "      <th>0</th>\n",
       "      <td>U001</td>\n",
       "      <td>0200762301</td>\n",
       "      <td>C&amp;S WH systems</td>\n",
       "      <td>NaN</td>\n",
       "      <td>2020.0</td>\n",
       "      <td>1.930797e+09</td>\n",
       "      <td>2020-04-17</td>\n",
       "      <td>20200418</td>\n",
       "      <td>20200417</td>\n",
       "      <td>20200502.0</td>\n",
       "      <td>USD</td>\n",
       "      <td>RV</td>\n",
       "      <td>1.0</td>\n",
       "      <td>NaN</td>\n",
       "      <td>67617.27</td>\n",
       "      <td>20200417.0</td>\n",
       "      <td>NAC6</td>\n",
       "      <td>1.930797e+09</td>\n",
       "      <td>1</td>\n",
       "      <td>NaN</td>\n",
       "    </tr>\n",
       "    <tr>\n",
       "      <th>1</th>\n",
       "      <td>U001</td>\n",
       "      <td>0200794332</td>\n",
       "      <td>COST corporation</td>\n",
       "      <td>NaN</td>\n",
       "      <td>2020.0</td>\n",
       "      <td>1.930632e+09</td>\n",
       "      <td>2020-03-12</td>\n",
       "      <td>20200310</td>\n",
       "      <td>20200312</td>\n",
       "      <td>20200327.0</td>\n",
       "      <td>USD</td>\n",
       "      <td>RV</td>\n",
       "      <td>1.0</td>\n",
       "      <td>NaN</td>\n",
       "      <td>8793.09</td>\n",
       "      <td>20200312.0</td>\n",
       "      <td>NAAX</td>\n",
       "      <td>1.930632e+09</td>\n",
       "      <td>1</td>\n",
       "      <td>NaN</td>\n",
       "    </tr>\n",
       "    <tr>\n",
       "      <th>2</th>\n",
       "      <td>U013</td>\n",
       "      <td>0140103335</td>\n",
       "      <td>PARAM associates</td>\n",
       "      <td>NaN</td>\n",
       "      <td>2020.0</td>\n",
       "      <td>1.991842e+09</td>\n",
       "      <td>2020-04-10</td>\n",
       "      <td>20200406</td>\n",
       "      <td>20200410</td>\n",
       "      <td>20200510.0</td>\n",
       "      <td>USD</td>\n",
       "      <td>RV</td>\n",
       "      <td>1.0</td>\n",
       "      <td>NaN</td>\n",
       "      <td>1868.40</td>\n",
       "      <td>20200410.0</td>\n",
       "      <td>NAVE</td>\n",
       "      <td>1.991842e+09</td>\n",
       "      <td>1</td>\n",
       "      <td>NaN</td>\n",
       "    </tr>\n",
       "    <tr>\n",
       "      <th>3</th>\n",
       "      <td>U001</td>\n",
       "      <td>0200769623</td>\n",
       "      <td>WAL-MAR foundation</td>\n",
       "      <td>NaN</td>\n",
       "      <td>2020.0</td>\n",
       "      <td>1.930814e+09</td>\n",
       "      <td>2020-04-23</td>\n",
       "      <td>20200422</td>\n",
       "      <td>20200423</td>\n",
       "      <td>20200508.0</td>\n",
       "      <td>USD</td>\n",
       "      <td>RV</td>\n",
       "      <td>1.0</td>\n",
       "      <td>NaN</td>\n",
       "      <td>307.48</td>\n",
       "      <td>20200423.0</td>\n",
       "      <td>NAH4</td>\n",
       "      <td>1.930814e+09</td>\n",
       "      <td>1</td>\n",
       "      <td>NaN</td>\n",
       "    </tr>\n",
       "    <tr>\n",
       "      <th>4</th>\n",
       "      <td>U001</td>\n",
       "      <td>0200744019</td>\n",
       "      <td>TARG trust</td>\n",
       "      <td>NaN</td>\n",
       "      <td>2020.0</td>\n",
       "      <td>1.930690e+09</td>\n",
       "      <td>2020-03-25</td>\n",
       "      <td>20200324</td>\n",
       "      <td>20200325</td>\n",
       "      <td>20200409.0</td>\n",
       "      <td>USD</td>\n",
       "      <td>RV</td>\n",
       "      <td>1.0</td>\n",
       "      <td>NaN</td>\n",
       "      <td>4293.12</td>\n",
       "      <td>20200325.0</td>\n",
       "      <td>NAA8</td>\n",
       "      <td>1.930690e+09</td>\n",
       "      <td>1</td>\n",
       "      <td>NaN</td>\n",
       "    </tr>\n",
       "  </tbody>\n",
       "</table>\n",
       "</div>"
      ],
      "text/plain": [
       "  business_code cust_number       name_customer clear_date  buisness_year  \\\n",
       "0          U001  0200762301      C&S WH systems        NaN         2020.0   \n",
       "1          U001  0200794332    COST corporation        NaN         2020.0   \n",
       "2          U013  0140103335    PARAM associates        NaN         2020.0   \n",
       "3          U001  0200769623  WAL-MAR foundation        NaN         2020.0   \n",
       "4          U001  0200744019          TARG trust        NaN         2020.0   \n",
       "\n",
       "         doc_id posting_date  document_create_date  document_create_date.1  \\\n",
       "0  1.930797e+09   2020-04-17              20200418                20200417   \n",
       "1  1.930632e+09   2020-03-12              20200310                20200312   \n",
       "2  1.991842e+09   2020-04-10              20200406                20200410   \n",
       "3  1.930814e+09   2020-04-23              20200422                20200423   \n",
       "4  1.930690e+09   2020-03-25              20200324                20200325   \n",
       "\n",
       "   due_in_date invoice_currency document type  posting_id  area_business  \\\n",
       "0   20200502.0              USD            RV         1.0            NaN   \n",
       "1   20200327.0              USD            RV         1.0            NaN   \n",
       "2   20200510.0              USD            RV         1.0            NaN   \n",
       "3   20200508.0              USD            RV         1.0            NaN   \n",
       "4   20200409.0              USD            RV         1.0            NaN   \n",
       "\n",
       "   total_open_amount  baseline_create_date cust_payment_terms    invoice_id  \\\n",
       "0           67617.27            20200417.0               NAC6  1.930797e+09   \n",
       "1            8793.09            20200312.0               NAAX  1.930632e+09   \n",
       "2            1868.40            20200410.0               NAVE  1.991842e+09   \n",
       "3             307.48            20200423.0               NAH4  1.930814e+09   \n",
       "4            4293.12            20200325.0               NAA8  1.930690e+09   \n",
       "\n",
       "   isOpen delay_days  \n",
       "0       1        NaN  \n",
       "1       1        NaN  \n",
       "2       1        NaN  \n",
       "3       1        NaN  \n",
       "4       1        NaN  "
      ]
     },
     "execution_count": 269,
     "metadata": {},
     "output_type": "execute_result"
    }
   ],
   "source": [
    "test_set.head()"
   ]
  },
  {
   "cell_type": "code",
   "execution_count": 270,
   "metadata": {},
   "outputs": [
    {
     "data": {
      "text/html": [
       "<div>\n",
       "<style scoped>\n",
       "    .dataframe tbody tr th:only-of-type {\n",
       "        vertical-align: middle;\n",
       "    }\n",
       "\n",
       "    .dataframe tbody tr th {\n",
       "        vertical-align: top;\n",
       "    }\n",
       "\n",
       "    .dataframe thead th {\n",
       "        text-align: right;\n",
       "    }\n",
       "</style>\n",
       "<table border=\"1\" class=\"dataframe\">\n",
       "  <thead>\n",
       "    <tr style=\"text-align: right;\">\n",
       "      <th></th>\n",
       "      <th>business_code</th>\n",
       "      <th>cust_number</th>\n",
       "      <th>name_customer</th>\n",
       "      <th>clear_date</th>\n",
       "      <th>buisness_year</th>\n",
       "      <th>doc_id</th>\n",
       "      <th>posting_date</th>\n",
       "      <th>document_create_date</th>\n",
       "      <th>document_create_date.1</th>\n",
       "      <th>due_in_date</th>\n",
       "      <th>invoice_currency</th>\n",
       "      <th>document type</th>\n",
       "      <th>posting_id</th>\n",
       "      <th>area_business</th>\n",
       "      <th>total_open_amount</th>\n",
       "      <th>baseline_create_date</th>\n",
       "      <th>cust_payment_terms</th>\n",
       "      <th>invoice_id</th>\n",
       "      <th>isOpen</th>\n",
       "      <th>delay_days</th>\n",
       "    </tr>\n",
       "  </thead>\n",
       "  <tbody>\n",
       "    <tr>\n",
       "      <th>0</th>\n",
       "      <td>U001</td>\n",
       "      <td>0200795490</td>\n",
       "      <td>HY -  co</td>\n",
       "      <td>2020-01-16</td>\n",
       "      <td>2020.0</td>\n",
       "      <td>1.930337e+09</td>\n",
       "      <td>2019-12-31</td>\n",
       "      <td>2019-12-31</td>\n",
       "      <td>2019-12-31</td>\n",
       "      <td>2020-01-15</td>\n",
       "      <td>USD</td>\n",
       "      <td>RV</td>\n",
       "      <td>1.0</td>\n",
       "      <td>NaN</td>\n",
       "      <td>15497.54</td>\n",
       "      <td>1970-01-01 00:00:00.020191231</td>\n",
       "      <td>NAA8</td>\n",
       "      <td>1.930337e+09</td>\n",
       "      <td>0</td>\n",
       "      <td>1</td>\n",
       "    </tr>\n",
       "    <tr>\n",
       "      <th>1</th>\n",
       "      <td>U001</td>\n",
       "      <td>0200739534</td>\n",
       "      <td>OK llc</td>\n",
       "      <td>2019-12-27</td>\n",
       "      <td>2019.0</td>\n",
       "      <td>1.930273e+09</td>\n",
       "      <td>2019-12-12</td>\n",
       "      <td>2019-12-12</td>\n",
       "      <td>2019-12-12</td>\n",
       "      <td>2019-12-27</td>\n",
       "      <td>USD</td>\n",
       "      <td>RV</td>\n",
       "      <td>1.0</td>\n",
       "      <td>NaN</td>\n",
       "      <td>91923.51</td>\n",
       "      <td>1970-01-01 00:00:00.020191212</td>\n",
       "      <td>NAA8</td>\n",
       "      <td>1.930273e+09</td>\n",
       "      <td>0</td>\n",
       "      <td>0</td>\n",
       "    </tr>\n",
       "    <tr>\n",
       "      <th>2</th>\n",
       "      <td>U001</td>\n",
       "      <td>0200769623</td>\n",
       "      <td>WAL-MAR</td>\n",
       "      <td>2019-05-08</td>\n",
       "      <td>2019.0</td>\n",
       "      <td>1.929211e+09</td>\n",
       "      <td>2019-04-25</td>\n",
       "      <td>2019-04-26</td>\n",
       "      <td>2019-04-25</td>\n",
       "      <td>2019-05-10</td>\n",
       "      <td>USD</td>\n",
       "      <td>RV</td>\n",
       "      <td>1.0</td>\n",
       "      <td>NaN</td>\n",
       "      <td>44707.23</td>\n",
       "      <td>1970-01-01 00:00:00.020190425</td>\n",
       "      <td>NAH4</td>\n",
       "      <td>1.929211e+09</td>\n",
       "      <td>0</td>\n",
       "      <td>-2</td>\n",
       "    </tr>\n",
       "    <tr>\n",
       "      <th>3</th>\n",
       "      <td>CA02</td>\n",
       "      <td>0140104429</td>\n",
       "      <td>COSTCO co</td>\n",
       "      <td>2020-01-31</td>\n",
       "      <td>2020.0</td>\n",
       "      <td>2.960605e+09</td>\n",
       "      <td>2020-01-06</td>\n",
       "      <td>2020-01-06</td>\n",
       "      <td>2020-01-06</td>\n",
       "      <td>2020-01-26</td>\n",
       "      <td>CAD</td>\n",
       "      <td>RV</td>\n",
       "      <td>1.0</td>\n",
       "      <td>NaN</td>\n",
       "      <td>40382.41</td>\n",
       "      <td>1970-01-01 00:00:00.020200116</td>\n",
       "      <td>CA10</td>\n",
       "      <td>2.960605e+09</td>\n",
       "      <td>0</td>\n",
       "      <td>5</td>\n",
       "    </tr>\n",
       "    <tr>\n",
       "      <th>4</th>\n",
       "      <td>U001</td>\n",
       "      <td>0200416837</td>\n",
       "      <td>DEC corporation</td>\n",
       "      <td>2019-06-25</td>\n",
       "      <td>2019.0</td>\n",
       "      <td>1.929514e+09</td>\n",
       "      <td>2019-06-19</td>\n",
       "      <td>2019-06-19</td>\n",
       "      <td>2019-06-19</td>\n",
       "      <td>2019-06-23</td>\n",
       "      <td>USD</td>\n",
       "      <td>RV</td>\n",
       "      <td>1.0</td>\n",
       "      <td>NaN</td>\n",
       "      <td>6803.28</td>\n",
       "      <td>1970-01-01 00:00:00.020190616</td>\n",
       "      <td>NAM1</td>\n",
       "      <td>1.929514e+09</td>\n",
       "      <td>0</td>\n",
       "      <td>2</td>\n",
       "    </tr>\n",
       "  </tbody>\n",
       "</table>\n",
       "</div>"
      ],
      "text/plain": [
       "  business_code cust_number    name_customer clear_date  buisness_year  \\\n",
       "0          U001  0200795490         HY -  co 2020-01-16         2020.0   \n",
       "1          U001  0200739534           OK llc 2019-12-27         2019.0   \n",
       "2          U001  0200769623         WAL-MAR  2019-05-08         2019.0   \n",
       "3          CA02  0140104429        COSTCO co 2020-01-31         2020.0   \n",
       "4          U001  0200416837  DEC corporation 2019-06-25         2019.0   \n",
       "\n",
       "         doc_id posting_date document_create_date document_create_date.1  \\\n",
       "0  1.930337e+09   2019-12-31           2019-12-31             2019-12-31   \n",
       "1  1.930273e+09   2019-12-12           2019-12-12             2019-12-12   \n",
       "2  1.929211e+09   2019-04-25           2019-04-26             2019-04-25   \n",
       "3  2.960605e+09   2020-01-06           2020-01-06             2020-01-06   \n",
       "4  1.929514e+09   2019-06-19           2019-06-19             2019-06-19   \n",
       "\n",
       "  due_in_date invoice_currency document type  posting_id  area_business  \\\n",
       "0  2020-01-15              USD            RV         1.0            NaN   \n",
       "1  2019-12-27              USD            RV         1.0            NaN   \n",
       "2  2019-05-10              USD            RV         1.0            NaN   \n",
       "3  2020-01-26              CAD            RV         1.0            NaN   \n",
       "4  2019-06-23              USD            RV         1.0            NaN   \n",
       "\n",
       "   total_open_amount          baseline_create_date cust_payment_terms  \\\n",
       "0           15497.54 1970-01-01 00:00:00.020191231               NAA8   \n",
       "1           91923.51 1970-01-01 00:00:00.020191212               NAA8   \n",
       "2           44707.23 1970-01-01 00:00:00.020190425               NAH4   \n",
       "3           40382.41 1970-01-01 00:00:00.020200116               CA10   \n",
       "4            6803.28 1970-01-01 00:00:00.020190616               NAM1   \n",
       "\n",
       "     invoice_id  isOpen  delay_days  \n",
       "0  1.930337e+09       0           1  \n",
       "1  1.930273e+09       0           0  \n",
       "2  1.929211e+09       0          -2  \n",
       "3  2.960605e+09       0           5  \n",
       "4  1.929514e+09       0           2  "
      ]
     },
     "execution_count": 270,
     "metadata": {},
     "output_type": "execute_result"
    }
   ],
   "source": [
    "data.head()"
   ]
  },
  {
   "cell_type": "code",
   "execution_count": 271,
   "metadata": {},
   "outputs": [
    {
     "data": {
      "text/plain": [
       "-76"
      ]
     },
     "execution_count": 271,
     "metadata": {},
     "output_type": "execute_result"
    }
   ],
   "source": [
    "#as we  remove -ve days\n",
    "data['delay_days'].min()"
   ]
  },
  {
   "cell_type": "code",
   "execution_count": 272,
   "metadata": {},
   "outputs": [
    {
     "name": "stdout",
     "output_type": "stream",
     "text": [
      "<class 'pandas.core.frame.DataFrame'>\n",
      "RangeIndex: 46568 entries, 0 to 46567\n",
      "Data columns (total 20 columns):\n",
      " #   Column                  Non-Null Count  Dtype         \n",
      "---  ------                  --------------  -----         \n",
      " 0   business_code           46568 non-null  object        \n",
      " 1   cust_number             46568 non-null  object        \n",
      " 2   name_customer           46568 non-null  object        \n",
      " 3   clear_date              46568 non-null  datetime64[ns]\n",
      " 4   buisness_year           46568 non-null  float64       \n",
      " 5   doc_id                  46568 non-null  float64       \n",
      " 6   posting_date            46568 non-null  object        \n",
      " 7   document_create_date    46568 non-null  datetime64[ns]\n",
      " 8   document_create_date.1  46568 non-null  datetime64[ns]\n",
      " 9   due_in_date             46568 non-null  datetime64[ns]\n",
      " 10  invoice_currency        46568 non-null  object        \n",
      " 11  document type           46568 non-null  object        \n",
      " 12  posting_id              46568 non-null  float64       \n",
      " 13  area_business           0 non-null      float64       \n",
      " 14  total_open_amount       46568 non-null  float64       \n",
      " 15  baseline_create_date    46568 non-null  datetime64[ns]\n",
      " 16  cust_payment_terms      46568 non-null  object        \n",
      " 17  invoice_id              46562 non-null  float64       \n",
      " 18  isOpen                  46568 non-null  int64         \n",
      " 19  delay_days              46568 non-null  int64         \n",
      "dtypes: datetime64[ns](5), float64(6), int64(2), object(7)\n",
      "memory usage: 7.1+ MB\n"
     ]
    }
   ],
   "source": [
    "data.info()\n"
   ]
  },
  {
   "cell_type": "code",
   "execution_count": 273,
   "metadata": {},
   "outputs": [],
   "source": [
    "# we have converted the columns to numeric format, rest column like cust number,custname,ivoice_currency, document type are categorical,\n",
    "#we will handle and analyse them later"
   ]
  },
  {
   "cell_type": "markdown",
   "metadata": {},
   "source": [
    "***NULL IMPUTATION***"
   ]
  },
  {
   "cell_type": "code",
   "execution_count": 274,
   "metadata": {},
   "outputs": [
    {
     "data": {
      "text/plain": [
       "business_code                 0\n",
       "cust_number                   0\n",
       "name_customer                 0\n",
       "clear_date                    0\n",
       "buisness_year                 0\n",
       "doc_id                        0\n",
       "posting_date                  0\n",
       "document_create_date          0\n",
       "document_create_date.1        0\n",
       "due_in_date                   0\n",
       "invoice_currency              0\n",
       "document type                 0\n",
       "posting_id                    0\n",
       "area_business             46568\n",
       "total_open_amount             0\n",
       "baseline_create_date          0\n",
       "cust_payment_terms            0\n",
       "invoice_id                    6\n",
       "isOpen                        0\n",
       "delay_days                    0\n",
       "dtype: int64"
      ]
     },
     "execution_count": 274,
     "metadata": {},
     "output_type": "execute_result"
    }
   ],
   "source": [
    "# checking the columns which have null value\n",
    "data.isnull().sum()"
   ]
  },
  {
   "cell_type": "code",
   "execution_count": 275,
   "metadata": {},
   "outputs": [
    {
     "data": {
      "text/plain": [
       "<AxesSubplot:>"
      ]
     },
     "execution_count": 275,
     "metadata": {},
     "output_type": "execute_result"
    },
    {
     "data": {
      "image/png": "[encoded data removed]",
      "text/plain": [
       "<Figure size 432x288 with 1 Axes>"
      ]
     },
     "metadata": {},
     "output_type": "display_data"
    }
   ],
   "source": [
    "sns.heatmap(data.isnull(),yticklabels=False,cbar=False,cmap='viridis')"
   ]
  },
  {
   "cell_type": "code",
   "execution_count": 276,
   "metadata": {},
   "outputs": [
    {
     "data": {
      "text/html": [
       "<div>\n",
       "<style scoped>\n",
       "    .dataframe tbody tr th:only-of-type {\n",
       "        vertical-align: middle;\n",
       "    }\n",
       "\n",
       "    .dataframe tbody tr th {\n",
       "        vertical-align: top;\n",
       "    }\n",
       "\n",
       "    .dataframe thead th {\n",
       "        text-align: right;\n",
       "    }\n",
       "</style>\n",
       "<table border=\"1\" class=\"dataframe\">\n",
       "  <thead>\n",
       "    <tr style=\"text-align: right;\">\n",
       "      <th></th>\n",
       "      <th>business_code</th>\n",
       "      <th>cust_number</th>\n",
       "      <th>name_customer</th>\n",
       "      <th>clear_date</th>\n",
       "      <th>buisness_year</th>\n",
       "      <th>doc_id</th>\n",
       "      <th>posting_date</th>\n",
       "      <th>document_create_date</th>\n",
       "      <th>document_create_date.1</th>\n",
       "      <th>due_in_date</th>\n",
       "      <th>invoice_currency</th>\n",
       "      <th>document type</th>\n",
       "      <th>posting_id</th>\n",
       "      <th>total_open_amount</th>\n",
       "      <th>baseline_create_date</th>\n",
       "      <th>cust_payment_terms</th>\n",
       "      <th>invoice_id</th>\n",
       "      <th>isOpen</th>\n",
       "      <th>delay_days</th>\n",
       "    </tr>\n",
       "  </thead>\n",
       "  <tbody>\n",
       "    <tr>\n",
       "      <th>0</th>\n",
       "      <td>U001</td>\n",
       "      <td>0200795490</td>\n",
       "      <td>HY -  co</td>\n",
       "      <td>2020-01-16</td>\n",
       "      <td>2020.0</td>\n",
       "      <td>1.930337e+09</td>\n",
       "      <td>2019-12-31</td>\n",
       "      <td>2019-12-31</td>\n",
       "      <td>2019-12-31</td>\n",
       "      <td>2020-01-15</td>\n",
       "      <td>USD</td>\n",
       "      <td>RV</td>\n",
       "      <td>1.0</td>\n",
       "      <td>15497.54</td>\n",
       "      <td>1970-01-01 00:00:00.020191231</td>\n",
       "      <td>NAA8</td>\n",
       "      <td>1.930337e+09</td>\n",
       "      <td>0</td>\n",
       "      <td>1</td>\n",
       "    </tr>\n",
       "    <tr>\n",
       "      <th>1</th>\n",
       "      <td>U001</td>\n",
       "      <td>0200739534</td>\n",
       "      <td>OK llc</td>\n",
       "      <td>2019-12-27</td>\n",
       "      <td>2019.0</td>\n",
       "      <td>1.930273e+09</td>\n",
       "      <td>2019-12-12</td>\n",
       "      <td>2019-12-12</td>\n",
       "      <td>2019-12-12</td>\n",
       "      <td>2019-12-27</td>\n",
       "      <td>USD</td>\n",
       "      <td>RV</td>\n",
       "      <td>1.0</td>\n",
       "      <td>91923.51</td>\n",
       "      <td>1970-01-01 00:00:00.020191212</td>\n",
       "      <td>NAA8</td>\n",
       "      <td>1.930273e+09</td>\n",
       "      <td>0</td>\n",
       "      <td>0</td>\n",
       "    </tr>\n",
       "    <tr>\n",
       "      <th>2</th>\n",
       "      <td>U001</td>\n",
       "      <td>0200769623</td>\n",
       "      <td>WAL-MAR</td>\n",
       "      <td>2019-05-08</td>\n",
       "      <td>2019.0</td>\n",
       "      <td>1.929211e+09</td>\n",
       "      <td>2019-04-25</td>\n",
       "      <td>2019-04-26</td>\n",
       "      <td>2019-04-25</td>\n",
       "      <td>2019-05-10</td>\n",
       "      <td>USD</td>\n",
       "      <td>RV</td>\n",
       "      <td>1.0</td>\n",
       "      <td>44707.23</td>\n",
       "      <td>1970-01-01 00:00:00.020190425</td>\n",
       "      <td>NAH4</td>\n",
       "      <td>1.929211e+09</td>\n",
       "      <td>0</td>\n",
       "      <td>-2</td>\n",
       "    </tr>\n",
       "    <tr>\n",
       "      <th>3</th>\n",
       "      <td>CA02</td>\n",
       "      <td>0140104429</td>\n",
       "      <td>COSTCO co</td>\n",
       "      <td>2020-01-31</td>\n",
       "      <td>2020.0</td>\n",
       "      <td>2.960605e+09</td>\n",
       "      <td>2020-01-06</td>\n",
       "      <td>2020-01-06</td>\n",
       "      <td>2020-01-06</td>\n",
       "      <td>2020-01-26</td>\n",
       "      <td>CAD</td>\n",
       "      <td>RV</td>\n",
       "      <td>1.0</td>\n",
       "      <td>40382.41</td>\n",
       "      <td>1970-01-01 00:00:00.020200116</td>\n",
       "      <td>CA10</td>\n",
       "      <td>2.960605e+09</td>\n",
       "      <td>0</td>\n",
       "      <td>5</td>\n",
       "    </tr>\n",
       "    <tr>\n",
       "      <th>4</th>\n",
       "      <td>U001</td>\n",
       "      <td>0200416837</td>\n",
       "      <td>DEC corporation</td>\n",
       "      <td>2019-06-25</td>\n",
       "      <td>2019.0</td>\n",
       "      <td>1.929514e+09</td>\n",
       "      <td>2019-06-19</td>\n",
       "      <td>2019-06-19</td>\n",
       "      <td>2019-06-19</td>\n",
       "      <td>2019-06-23</td>\n",
       "      <td>USD</td>\n",
       "      <td>RV</td>\n",
       "      <td>1.0</td>\n",
       "      <td>6803.28</td>\n",
       "      <td>1970-01-01 00:00:00.020190616</td>\n",
       "      <td>NAM1</td>\n",
       "      <td>1.929514e+09</td>\n",
       "      <td>0</td>\n",
       "      <td>2</td>\n",
       "    </tr>\n",
       "  </tbody>\n",
       "</table>\n",
       "</div>"
      ],
      "text/plain": [
       "  business_code cust_number    name_customer clear_date  buisness_year  \\\n",
       "0          U001  0200795490         HY -  co 2020-01-16         2020.0   \n",
       "1          U001  0200739534           OK llc 2019-12-27         2019.0   \n",
       "2          U001  0200769623         WAL-MAR  2019-05-08         2019.0   \n",
       "3          CA02  0140104429        COSTCO co 2020-01-31         2020.0   \n",
       "4          U001  0200416837  DEC corporation 2019-06-25         2019.0   \n",
       "\n",
       "         doc_id posting_date document_create_date document_create_date.1  \\\n",
       "0  1.930337e+09   2019-12-31           2019-12-31             2019-12-31   \n",
       "1  1.930273e+09   2019-12-12           2019-12-12             2019-12-12   \n",
       "2  1.929211e+09   2019-04-25           2019-04-26             2019-04-25   \n",
       "3  2.960605e+09   2020-01-06           2020-01-06             2020-01-06   \n",
       "4  1.929514e+09   2019-06-19           2019-06-19             2019-06-19   \n",
       "\n",
       "  due_in_date invoice_currency document type  posting_id  total_open_amount  \\\n",
       "0  2020-01-15              USD            RV         1.0           15497.54   \n",
       "1  2019-12-27              USD            RV         1.0           91923.51   \n",
       "2  2019-05-10              USD            RV         1.0           44707.23   \n",
       "3  2020-01-26              CAD            RV         1.0           40382.41   \n",
       "4  2019-06-23              USD            RV         1.0            6803.28   \n",
       "\n",
       "           baseline_create_date cust_payment_terms    invoice_id  isOpen  \\\n",
       "0 1970-01-01 00:00:00.020191231               NAA8  1.930337e+09       0   \n",
       "1 1970-01-01 00:00:00.020191212               NAA8  1.930273e+09       0   \n",
       "2 1970-01-01 00:00:00.020190425               NAH4  1.929211e+09       0   \n",
       "3 1970-01-01 00:00:00.020200116               CA10  2.960605e+09       0   \n",
       "4 1970-01-01 00:00:00.020190616               NAM1  1.929514e+09       0   \n",
       "\n",
       "   delay_days  \n",
       "0           1  \n",
       "1           0  \n",
       "2          -2  \n",
       "3           5  \n",
       "4           2  "
      ]
     },
     "execution_count": 276,
     "metadata": {},
     "output_type": "execute_result"
    }
   ],
   "source": [
    "\n",
    "### from above visualisation. we come to know that area_business column have 100% null value.\n",
    "#so, its better to remove such column\n",
    "data=data.drop(labels=['area_business'],axis=1)\n",
    "data.head()"
   ]
  },
  {
   "cell_type": "code",
   "execution_count": 277,
   "metadata": {},
   "outputs": [],
   "source": [
    "#lets see the correlation between doc_id and invoice_id"
   ]
  },
  {
   "cell_type": "code",
   "execution_count": 278,
   "metadata": {},
   "outputs": [
    {
     "data": {
      "text/html": [
       "<div>\n",
       "<style scoped>\n",
       "    .dataframe tbody tr th:only-of-type {\n",
       "        vertical-align: middle;\n",
       "    }\n",
       "\n",
       "    .dataframe tbody tr th {\n",
       "        vertical-align: top;\n",
       "    }\n",
       "\n",
       "    .dataframe thead th {\n",
       "        text-align: right;\n",
       "    }\n",
       "</style>\n",
       "<table border=\"1\" class=\"dataframe\">\n",
       "  <thead>\n",
       "    <tr style=\"text-align: right;\">\n",
       "      <th></th>\n",
       "      <th>doc_id</th>\n",
       "      <th>invoice_id</th>\n",
       "    </tr>\n",
       "  </thead>\n",
       "  <tbody>\n",
       "    <tr>\n",
       "      <th>doc_id</th>\n",
       "      <td>1.0</td>\n",
       "      <td>1.0</td>\n",
       "    </tr>\n",
       "    <tr>\n",
       "      <th>invoice_id</th>\n",
       "      <td>1.0</td>\n",
       "      <td>1.0</td>\n",
       "    </tr>\n",
       "  </tbody>\n",
       "</table>\n",
       "</div>"
      ],
      "text/plain": [
       "            doc_id  invoice_id\n",
       "doc_id         1.0         1.0\n",
       "invoice_id     1.0         1.0"
      ]
     },
     "execution_count": 278,
     "metadata": {},
     "output_type": "execute_result"
    }
   ],
   "source": [
    "\n",
    "correlation=data[['doc_id','invoice_id']].corr()\n",
    "correlation"
   ]
  },
  {
   "cell_type": "code",
   "execution_count": 279,
   "metadata": {},
   "outputs": [
    {
     "data": {
      "text/plain": [
       "<AxesSubplot:>"
      ]
     },
     "execution_count": 279,
     "metadata": {},
     "output_type": "execute_result"
    },
    {
     "data": {
      "image/png": "[encoded data removed]",
      "text/plain": [
       "<Figure size 576x288 with 2 Axes>"
      ]
     },
     "metadata": {},
     "output_type": "display_data"
    }
   ],
   "source": [
    "\n",
    "plt.subplots(figsize=(8,4))\n",
    "sns.heatmap(correlation,annot=True)"
   ]
  },
  {
   "cell_type": "code",
   "execution_count": 280,
   "metadata": {},
   "outputs": [],
   "source": [
    "# here we find invoice_id and doc_id are highly correlated as the coefficient is 1 , \n",
    "#also invoice id have 6 missing values we will remove invoice_id."
   ]
  },
  {
   "cell_type": "code",
   "execution_count": 281,
   "metadata": {},
   "outputs": [
    {
     "data": {
      "text/html": [
       "<div>\n",
       "<style scoped>\n",
       "    .dataframe tbody tr th:only-of-type {\n",
       "        vertical-align: middle;\n",
       "    }\n",
       "\n",
       "    .dataframe tbody tr th {\n",
       "        vertical-align: top;\n",
       "    }\n",
       "\n",
       "    .dataframe thead th {\n",
       "        text-align: right;\n",
       "    }\n",
       "</style>\n",
       "<table border=\"1\" class=\"dataframe\">\n",
       "  <thead>\n",
       "    <tr style=\"text-align: right;\">\n",
       "      <th></th>\n",
       "      <th>business_code</th>\n",
       "      <th>cust_number</th>\n",
       "      <th>name_customer</th>\n",
       "      <th>clear_date</th>\n",
       "      <th>buisness_year</th>\n",
       "      <th>doc_id</th>\n",
       "      <th>posting_date</th>\n",
       "      <th>document_create_date</th>\n",
       "      <th>document_create_date.1</th>\n",
       "      <th>due_in_date</th>\n",
       "      <th>invoice_currency</th>\n",
       "      <th>document type</th>\n",
       "      <th>posting_id</th>\n",
       "      <th>total_open_amount</th>\n",
       "      <th>baseline_create_date</th>\n",
       "      <th>cust_payment_terms</th>\n",
       "      <th>isOpen</th>\n",
       "      <th>delay_days</th>\n",
       "    </tr>\n",
       "  </thead>\n",
       "  <tbody>\n",
       "    <tr>\n",
       "      <th>0</th>\n",
       "      <td>U001</td>\n",
       "      <td>0200795490</td>\n",
       "      <td>HY -  co</td>\n",
       "      <td>2020-01-16</td>\n",
       "      <td>2020.0</td>\n",
       "      <td>1.930337e+09</td>\n",
       "      <td>2019-12-31</td>\n",
       "      <td>2019-12-31</td>\n",
       "      <td>2019-12-31</td>\n",
       "      <td>2020-01-15</td>\n",
       "      <td>USD</td>\n",
       "      <td>RV</td>\n",
       "      <td>1.0</td>\n",
       "      <td>15497.54</td>\n",
       "      <td>1970-01-01 00:00:00.020191231</td>\n",
       "      <td>NAA8</td>\n",
       "      <td>0</td>\n",
       "      <td>1</td>\n",
       "    </tr>\n",
       "    <tr>\n",
       "      <th>1</th>\n",
       "      <td>U001</td>\n",
       "      <td>0200739534</td>\n",
       "      <td>OK llc</td>\n",
       "      <td>2019-12-27</td>\n",
       "      <td>2019.0</td>\n",
       "      <td>1.930273e+09</td>\n",
       "      <td>2019-12-12</td>\n",
       "      <td>2019-12-12</td>\n",
       "      <td>2019-12-12</td>\n",
       "      <td>2019-12-27</td>\n",
       "      <td>USD</td>\n",
       "      <td>RV</td>\n",
       "      <td>1.0</td>\n",
       "      <td>91923.51</td>\n",
       "      <td>1970-01-01 00:00:00.020191212</td>\n",
       "      <td>NAA8</td>\n",
       "      <td>0</td>\n",
       "      <td>0</td>\n",
       "    </tr>\n",
       "    <tr>\n",
       "      <th>2</th>\n",
       "      <td>U001</td>\n",
       "      <td>0200769623</td>\n",
       "      <td>WAL-MAR</td>\n",
       "      <td>2019-05-08</td>\n",
       "      <td>2019.0</td>\n",
       "      <td>1.929211e+09</td>\n",
       "      <td>2019-04-25</td>\n",
       "      <td>2019-04-26</td>\n",
       "      <td>2019-04-25</td>\n",
       "      <td>2019-05-10</td>\n",
       "      <td>USD</td>\n",
       "      <td>RV</td>\n",
       "      <td>1.0</td>\n",
       "      <td>44707.23</td>\n",
       "      <td>1970-01-01 00:00:00.020190425</td>\n",
       "      <td>NAH4</td>\n",
       "      <td>0</td>\n",
       "      <td>-2</td>\n",
       "    </tr>\n",
       "    <tr>\n",
       "      <th>3</th>\n",
       "      <td>CA02</td>\n",
       "      <td>0140104429</td>\n",
       "      <td>COSTCO co</td>\n",
       "      <td>2020-01-31</td>\n",
       "      <td>2020.0</td>\n",
       "      <td>2.960605e+09</td>\n",
       "      <td>2020-01-06</td>\n",
       "      <td>2020-01-06</td>\n",
       "      <td>2020-01-06</td>\n",
       "      <td>2020-01-26</td>\n",
       "      <td>CAD</td>\n",
       "      <td>RV</td>\n",
       "      <td>1.0</td>\n",
       "      <td>40382.41</td>\n",
       "      <td>1970-01-01 00:00:00.020200116</td>\n",
       "      <td>CA10</td>\n",
       "      <td>0</td>\n",
       "      <td>5</td>\n",
       "    </tr>\n",
       "    <tr>\n",
       "      <th>4</th>\n",
       "      <td>U001</td>\n",
       "      <td>0200416837</td>\n",
       "      <td>DEC corporation</td>\n",
       "      <td>2019-06-25</td>\n",
       "      <td>2019.0</td>\n",
       "      <td>1.929514e+09</td>\n",
       "      <td>2019-06-19</td>\n",
       "      <td>2019-06-19</td>\n",
       "      <td>2019-06-19</td>\n",
       "      <td>2019-06-23</td>\n",
       "      <td>USD</td>\n",
       "      <td>RV</td>\n",
       "      <td>1.0</td>\n",
       "      <td>6803.28</td>\n",
       "      <td>1970-01-01 00:00:00.020190616</td>\n",
       "      <td>NAM1</td>\n",
       "      <td>0</td>\n",
       "      <td>2</td>\n",
       "    </tr>\n",
       "  </tbody>\n",
       "</table>\n",
       "</div>"
      ],
      "text/plain": [
       "  business_code cust_number    name_customer clear_date  buisness_year  \\\n",
       "0          U001  0200795490         HY -  co 2020-01-16         2020.0   \n",
       "1          U001  0200739534           OK llc 2019-12-27         2019.0   \n",
       "2          U001  0200769623         WAL-MAR  2019-05-08         2019.0   \n",
       "3          CA02  0140104429        COSTCO co 2020-01-31         2020.0   \n",
       "4          U001  0200416837  DEC corporation 2019-06-25         2019.0   \n",
       "\n",
       "         doc_id posting_date document_create_date document_create_date.1  \\\n",
       "0  1.930337e+09   2019-12-31           2019-12-31             2019-12-31   \n",
       "1  1.930273e+09   2019-12-12           2019-12-12             2019-12-12   \n",
       "2  1.929211e+09   2019-04-25           2019-04-26             2019-04-25   \n",
       "3  2.960605e+09   2020-01-06           2020-01-06             2020-01-06   \n",
       "4  1.929514e+09   2019-06-19           2019-06-19             2019-06-19   \n",
       "\n",
       "  due_in_date invoice_currency document type  posting_id  total_open_amount  \\\n",
       "0  2020-01-15              USD            RV         1.0           15497.54   \n",
       "1  2019-12-27              USD            RV         1.0           91923.51   \n",
       "2  2019-05-10              USD            RV         1.0           44707.23   \n",
       "3  2020-01-26              CAD            RV         1.0           40382.41   \n",
       "4  2019-06-23              USD            RV         1.0            6803.28   \n",
       "\n",
       "           baseline_create_date cust_payment_terms  isOpen  delay_days  \n",
       "0 1970-01-01 00:00:00.020191231               NAA8       0           1  \n",
       "1 1970-01-01 00:00:00.020191212               NAA8       0           0  \n",
       "2 1970-01-01 00:00:00.020190425               NAH4       0          -2  \n",
       "3 1970-01-01 00:00:00.020200116               CA10       0           5  \n",
       "4 1970-01-01 00:00:00.020190616               NAM1       0           2  "
      ]
     },
     "execution_count": 281,
     "metadata": {},
     "output_type": "execute_result"
    }
   ],
   "source": [
    "data=data.drop(labels=['invoice_id'],axis=1)\n",
    "data.head()"
   ]
  },
  {
   "cell_type": "code",
   "execution_count": 282,
   "metadata": {},
   "outputs": [
    {
     "data": {
      "text/plain": [
       "business_code             0\n",
       "cust_number               0\n",
       "name_customer             0\n",
       "clear_date                0\n",
       "buisness_year             0\n",
       "doc_id                    0\n",
       "posting_date              0\n",
       "document_create_date      0\n",
       "document_create_date.1    0\n",
       "due_in_date               0\n",
       "invoice_currency          0\n",
       "document type             0\n",
       "posting_id                0\n",
       "total_open_amount         0\n",
       "baseline_create_date      0\n",
       "cust_payment_terms        0\n",
       "isOpen                    0\n",
       "delay_days                0\n",
       "dtype: int64"
      ]
     },
     "execution_count": 282,
     "metadata": {},
     "output_type": "execute_result"
    }
   ],
   "source": [
    "#again checking for null value\n",
    "data.isnull().sum()"
   ]
  },
  {
   "cell_type": "code",
   "execution_count": 283,
   "metadata": {},
   "outputs": [],
   "source": [
    "#all null values are handled"
   ]
  },
  {
   "cell_type": "markdown",
   "metadata": {},
   "source": [
    "#to avoid discrepancy between document_create_date and document_create_date.1 we drop document_create_date and instead use document_create_date.1 which norm document_create_date"
   ]
  },
  {
   "cell_type": "code",
   "execution_count": 284,
   "metadata": {},
   "outputs": [],
   "source": [
    "data.drop(columns = \"document_create_date\",axis=0,inplace = True)"
   ]
  },
  {
   "cell_type": "code",
   "execution_count": 285,
   "metadata": {},
   "outputs": [],
   "source": [
    "# checking and removing duplicate column"
   ]
  },
  {
   "cell_type": "code",
   "execution_count": 286,
   "metadata": {},
   "outputs": [
    {
     "data": {
      "text/plain": [
       "0"
      ]
     },
     "execution_count": 286,
     "metadata": {},
     "output_type": "execute_result"
    }
   ],
   "source": [
    "data.duplicated().sum()"
   ]
  },
  {
   "cell_type": "code",
   "execution_count": 287,
   "metadata": {},
   "outputs": [
    {
     "data": {
      "text/plain": [
       "0"
      ]
     },
     "execution_count": 287,
     "metadata": {},
     "output_type": "execute_result"
    }
   ],
   "source": [
    "transposedTrain=data.T\n",
    "transposedTrain.duplicated().sum()"
   ]
  },
  {
   "cell_type": "code",
   "execution_count": 288,
   "metadata": {},
   "outputs": [
    {
     "name": "stdout",
     "output_type": "stream",
     "text": [
      "business_code - 6\n",
      "cust_number - 1419\n",
      "name_customer - 4200\n",
      "clear_date - 402\n",
      "buisness_year - 2\n",
      "doc_id - 46568\n",
      "posting_date - 424\n",
      "document_create_date.1 - 425\n",
      "due_in_date - 492\n",
      "invoice_currency - 2\n",
      "document type - 2\n",
      "posting_id - 1\n",
      "total_open_amount - 42089\n",
      "baseline_create_date - 434\n",
      "cust_payment_terms - 74\n",
      "isOpen - 1\n",
      "delay_days - 179\n"
     ]
    }
   ],
   "source": [
    "#Identifying columns whose every value is unique\n",
    "\n",
    "for cols in data.columns:\n",
    "    print(f\"{cols} - {data[f'{cols}'].nunique()}\")"
   ]
  },
  {
   "cell_type": "code",
   "execution_count": 289,
   "metadata": {},
   "outputs": [],
   "source": [
    "# as we see the column isOpen and posting_id have only 1 value, so we need to remove that"
   ]
  },
  {
   "cell_type": "code",
   "execution_count": 290,
   "metadata": {},
   "outputs": [
    {
     "name": "stdout",
     "output_type": "stream",
     "text": [
      "['posting_id', 'isOpen']\n"
     ]
    },
    {
     "data": {
      "text/plain": [
       "Index(['business_code', 'cust_number', 'name_customer', 'clear_date',\n",
       "       'buisness_year', 'doc_id', 'posting_date', 'document_create_date.1',\n",
       "       'due_in_date', 'invoice_currency', 'document type', 'total_open_amount',\n",
       "       'baseline_create_date', 'cust_payment_terms', 'delay_days'],\n",
       "      dtype='object')"
      ]
     },
     "execution_count": 290,
     "metadata": {},
     "output_type": "execute_result"
    }
   ],
   "source": [
    "#REMOVAL OF CONSTANT COLUMNS i.e Columns which have the same value in the enitre dataset\n",
    "\n",
    "unique_cols =  [x for x in data.columns if data[x].nunique()==1] \n",
    "print(unique_cols)\n",
    "data.drop(unique_cols,axis=1,inplace=True)\n",
    "data.columns"
   ]
  },
  {
   "cell_type": "code",
   "execution_count": 291,
   "metadata": {},
   "outputs": [
    {
     "data": {
      "text/plain": [
       "(46568, 15)"
      ]
     },
     "execution_count": 291,
     "metadata": {},
     "output_type": "execute_result"
    }
   ],
   "source": [
    "\n",
    "data.shape"
   ]
  },
  {
   "cell_type": "code",
   "execution_count": 292,
   "metadata": {},
   "outputs": [
    {
     "name": "stdout",
     "output_type": "stream",
     "text": [
      "<class 'pandas.core.frame.DataFrame'>\n",
      "RangeIndex: 46568 entries, 0 to 46567\n",
      "Data columns (total 15 columns):\n",
      " #   Column                  Non-Null Count  Dtype         \n",
      "---  ------                  --------------  -----         \n",
      " 0   business_code           46568 non-null  object        \n",
      " 1   cust_number             46568 non-null  object        \n",
      " 2   name_customer           46568 non-null  object        \n",
      " 3   clear_date              46568 non-null  datetime64[ns]\n",
      " 4   buisness_year           46568 non-null  float64       \n",
      " 5   doc_id                  46568 non-null  float64       \n",
      " 6   posting_date            46568 non-null  object        \n",
      " 7   document_create_date.1  46568 non-null  datetime64[ns]\n",
      " 8   due_in_date             46568 non-null  datetime64[ns]\n",
      " 9   invoice_currency        46568 non-null  object        \n",
      " 10  document type           46568 non-null  object        \n",
      " 11  total_open_amount       46568 non-null  float64       \n",
      " 12  baseline_create_date    46568 non-null  datetime64[ns]\n",
      " 13  cust_payment_terms      46568 non-null  object        \n",
      " 14  delay_days              46568 non-null  int64         \n",
      "dtypes: datetime64[ns](4), float64(3), int64(1), object(7)\n",
      "memory usage: 5.3+ MB\n"
     ]
    }
   ],
   "source": [
    "data.info() #as we can see there are no null or nan values in our dataset"
   ]
  },
  {
   "cell_type": "markdown",
   "metadata": {},
   "source": [
    "# SPLITTING DATASET"
   ]
  },
  {
   "cell_type": "code",
   "execution_count": 293,
   "metadata": {},
   "outputs": [],
   "source": [
    "# we are going to split data set on date basis\n"
   ]
  },
  {
   "cell_type": "code",
   "execution_count": 294,
   "metadata": {},
   "outputs": [
    {
     "data": {
      "text/html": [
       "<div>\n",
       "<style scoped>\n",
       "    .dataframe tbody tr th:only-of-type {\n",
       "        vertical-align: middle;\n",
       "    }\n",
       "\n",
       "    .dataframe tbody tr th {\n",
       "        vertical-align: top;\n",
       "    }\n",
       "\n",
       "    .dataframe thead th {\n",
       "        text-align: right;\n",
       "    }\n",
       "</style>\n",
       "<table border=\"1\" class=\"dataframe\">\n",
       "  <thead>\n",
       "    <tr style=\"text-align: right;\">\n",
       "      <th></th>\n",
       "      <th>business_code</th>\n",
       "      <th>cust_number</th>\n",
       "      <th>name_customer</th>\n",
       "      <th>clear_date</th>\n",
       "      <th>buisness_year</th>\n",
       "      <th>doc_id</th>\n",
       "      <th>posting_date</th>\n",
       "      <th>document_create_date.1</th>\n",
       "      <th>due_in_date</th>\n",
       "      <th>invoice_currency</th>\n",
       "      <th>document type</th>\n",
       "      <th>total_open_amount</th>\n",
       "      <th>baseline_create_date</th>\n",
       "      <th>cust_payment_terms</th>\n",
       "      <th>delay_days</th>\n",
       "    </tr>\n",
       "  </thead>\n",
       "  <tbody>\n",
       "    <tr>\n",
       "      <th>33377</th>\n",
       "      <td>CA02</td>\n",
       "      <td>0100054173</td>\n",
       "      <td>DIA corporation</td>\n",
       "      <td>2019-09-25</td>\n",
       "      <td>2019.0</td>\n",
       "      <td>9.500000e+09</td>\n",
       "      <td>2019-03-29</td>\n",
       "      <td>2018-12-21</td>\n",
       "      <td>2018-12-31</td>\n",
       "      <td>CAD</td>\n",
       "      <td>X2</td>\n",
       "      <td>255.00</td>\n",
       "      <td>1970-01-01 00:00:00.020181221</td>\n",
       "      <td>CA10</td>\n",
       "      <td>268</td>\n",
       "    </tr>\n",
       "    <tr>\n",
       "      <th>10048</th>\n",
       "      <td>U001</td>\n",
       "      <td>0200148860</td>\n",
       "      <td>DOLLA foundation</td>\n",
       "      <td>2019-01-14</td>\n",
       "      <td>2019.0</td>\n",
       "      <td>1.928540e+09</td>\n",
       "      <td>2018-12-30</td>\n",
       "      <td>2018-12-30</td>\n",
       "      <td>2019-01-14</td>\n",
       "      <td>USD</td>\n",
       "      <td>RV</td>\n",
       "      <td>16501.75</td>\n",
       "      <td>1970-01-01 00:00:00.020181230</td>\n",
       "      <td>NAA8</td>\n",
       "      <td>0</td>\n",
       "    </tr>\n",
       "    <tr>\n",
       "      <th>3172</th>\n",
       "      <td>U001</td>\n",
       "      <td>0200769623</td>\n",
       "      <td>WAL-MAR systems</td>\n",
       "      <td>2019-01-09</td>\n",
       "      <td>2019.0</td>\n",
       "      <td>1.928539e+09</td>\n",
       "      <td>2018-12-30</td>\n",
       "      <td>2018-12-30</td>\n",
       "      <td>2019-01-14</td>\n",
       "      <td>USD</td>\n",
       "      <td>RV</td>\n",
       "      <td>3424.07</td>\n",
       "      <td>1970-01-01 00:00:00.020181230</td>\n",
       "      <td>NAH4</td>\n",
       "      <td>-5</td>\n",
       "    </tr>\n",
       "    <tr>\n",
       "      <th>6239</th>\n",
       "      <td>U001</td>\n",
       "      <td>0200759878</td>\n",
       "      <td>SA llc</td>\n",
       "      <td>2019-01-15</td>\n",
       "      <td>2019.0</td>\n",
       "      <td>1.928540e+09</td>\n",
       "      <td>2018-12-30</td>\n",
       "      <td>2018-12-30</td>\n",
       "      <td>2019-01-14</td>\n",
       "      <td>USD</td>\n",
       "      <td>RV</td>\n",
       "      <td>14257.87</td>\n",
       "      <td>1970-01-01 00:00:00.020181230</td>\n",
       "      <td>NAH4</td>\n",
       "      <td>1</td>\n",
       "    </tr>\n",
       "    <tr>\n",
       "      <th>31812</th>\n",
       "      <td>U001</td>\n",
       "      <td>0200762301</td>\n",
       "      <td>C&amp;S WH trust</td>\n",
       "      <td>2019-01-15</td>\n",
       "      <td>2019.0</td>\n",
       "      <td>1.928532e+09</td>\n",
       "      <td>2018-12-30</td>\n",
       "      <td>2018-12-30</td>\n",
       "      <td>2019-01-14</td>\n",
       "      <td>USD</td>\n",
       "      <td>RV</td>\n",
       "      <td>35530.13</td>\n",
       "      <td>1970-01-01 00:00:00.020181230</td>\n",
       "      <td>NAC6</td>\n",
       "      <td>1</td>\n",
       "    </tr>\n",
       "  </tbody>\n",
       "</table>\n",
       "</div>"
      ],
      "text/plain": [
       "      business_code cust_number     name_customer clear_date  buisness_year  \\\n",
       "33377          CA02  0100054173   DIA corporation 2019-09-25         2019.0   \n",
       "10048          U001  0200148860  DOLLA foundation 2019-01-14         2019.0   \n",
       "3172           U001  0200769623   WAL-MAR systems 2019-01-09         2019.0   \n",
       "6239           U001  0200759878            SA llc 2019-01-15         2019.0   \n",
       "31812          U001  0200762301      C&S WH trust 2019-01-15         2019.0   \n",
       "\n",
       "             doc_id posting_date document_create_date.1 due_in_date  \\\n",
       "33377  9.500000e+09   2019-03-29             2018-12-21  2018-12-31   \n",
       "10048  1.928540e+09   2018-12-30             2018-12-30  2019-01-14   \n",
       "3172   1.928539e+09   2018-12-30             2018-12-30  2019-01-14   \n",
       "6239   1.928540e+09   2018-12-30             2018-12-30  2019-01-14   \n",
       "31812  1.928532e+09   2018-12-30             2018-12-30  2019-01-14   \n",
       "\n",
       "      invoice_currency document type  total_open_amount  \\\n",
       "33377              CAD            X2             255.00   \n",
       "10048              USD            RV           16501.75   \n",
       "3172               USD            RV            3424.07   \n",
       "6239               USD            RV           14257.87   \n",
       "31812              USD            RV           35530.13   \n",
       "\n",
       "               baseline_create_date cust_payment_terms  delay_days  \n",
       "33377 1970-01-01 00:00:00.020181221               CA10         268  \n",
       "10048 1970-01-01 00:00:00.020181230               NAA8           0  \n",
       "3172  1970-01-01 00:00:00.020181230               NAH4          -5  \n",
       "6239  1970-01-01 00:00:00.020181230               NAH4           1  \n",
       "31812 1970-01-01 00:00:00.020181230               NAC6           1  "
      ]
     },
     "execution_count": 294,
     "metadata": {},
     "output_type": "execute_result"
    }
   ],
   "source": [
    "data=data.sort_values(by=['document_create_date.1'], ascending=True)\n",
    "data.head()"
   ]
  },
  {
   "cell_type": "code",
   "execution_count": 295,
   "metadata": {},
   "outputs": [
    {
     "name": "stdout",
     "output_type": "stream",
     "text": [
      "latest date: 2020-02-27 00:00:00\n",
      "oldest date: 2018-12-21 00:00:00\n"
     ]
    }
   ],
   "source": [
    "print('latest date:',data['document_create_date.1'].max())\n",
    "\n",
    "print('oldest date:',data['document_create_date.1'].min())\n"
   ]
  },
  {
   "cell_type": "code",
   "execution_count": 296,
   "metadata": {},
   "outputs": [
    {
     "data": {
      "text/plain": [
       "((32709, 15), (13859, 15))"
      ]
     },
     "execution_count": 296,
     "metadata": {},
     "output_type": "execute_result"
    }
   ],
   "source": [
    "# Splitting the initial dataframe into train and temp\n",
    "# the dataframe is from '2018-12-07 to 2020-02-21'\n",
    "\n",
    "train=data[data['document_create_date.1'].apply(lambda x: pd.to_datetime(x, format='%Y%m%d')) <= '2019-10-8'].copy()\n",
    "temp=data[data['document_create_date.1'].apply(lambda x: pd.to_datetime(x, format='%Y%m%d')) > '2019-10-8'].copy()\n",
    "train.shape, temp.shape"
   ]
  },
  {
   "cell_type": "code",
   "execution_count": 297,
   "metadata": {},
   "outputs": [
    {
     "data": {
      "text/plain": [
       "33377   2018-12-21\n",
       "10048   2018-12-30\n",
       "3172    2018-12-30\n",
       "6239    2018-12-30\n",
       "31812   2018-12-30\n",
       "           ...    \n",
       "24722   2020-02-27\n",
       "19420   2020-02-27\n",
       "28046   2020-02-27\n",
       "21196   2020-02-27\n",
       "15517   2020-02-27\n",
       "Name: document_create_date.1, Length: 46568, dtype: datetime64[ns]"
      ]
     },
     "execution_count": 297,
     "metadata": {},
     "output_type": "execute_result"
    }
   ],
   "source": [
    "data['document_create_date.1']"
   ]
  },
  {
   "cell_type": "code",
   "execution_count": 298,
   "metadata": {},
   "outputs": [
    {
     "name": "stdout",
     "output_type": "stream",
     "text": [
      "percentage of train dataset: 0.7023922006528088\n",
      "percentage of temp dataset: 0.2976077993471912\n",
      "46568\n"
     ]
    }
   ],
   "source": [
    "print(\"percentage of train dataset:\",len(train)/len(data))\n",
    "print(\"percentage of temp dataset:\",len(temp)/len(data))\n",
    "print(len(data))"
   ]
  },
  {
   "cell_type": "markdown",
   "metadata": {},
   "source": [
    "***we observe that the way we splited the dataset adjusting the date,give the ratio 70:30 approximately***"
   ]
  },
  {
   "cell_type": "code",
   "execution_count": 299,
   "metadata": {},
   "outputs": [
    {
     "data": {
      "text/plain": [
       "((6932, 15), (6927, 15))"
      ]
     },
     "execution_count": 299,
     "metadata": {},
     "output_type": "execute_result"
    }
   ],
   "source": [
    "# Spliting the temp into validation and test set\n",
    "\n",
    "validation=temp[temp['document_create_date.1'].apply(lambda x: pd.to_datetime(x, format='%Y%m%d')) <= '2019-12-10'].copy()\n",
    "test=temp[temp['document_create_date.1'].apply(lambda x: pd.to_datetime(x, format='%Y%m%d')) > '2019-12-10'].copy()\n",
    "validation.shape, test.shape"
   ]
  },
  {
   "cell_type": "code",
   "execution_count": 300,
   "metadata": {},
   "outputs": [
    {
     "name": "stdout",
     "output_type": "stream",
     "text": [
      "percentage of validaton dataset: 0.14885758460745577\n",
      "percentage of test dataset: 0.14875021473973543\n"
     ]
    }
   ],
   "source": [
    "print(\"percentage of validaton dataset:\",len(validation)/len(data))\n",
    "print(\"percentage of test dataset:\",len(test)/len(data))\n"
   ]
  },
  {
   "cell_type": "markdown",
   "metadata": {},
   "source": [
    "***we observe that the way we splited the tempdatset into validation and test , give 50:50 ratio.In over all the dataset is approximately divided into train:validation:test=70:15:15***"
   ]
  },
  {
   "cell_type": "code",
   "execution_count": 301,
   "metadata": {},
   "outputs": [],
   "source": [
    "#Spliting dataset into x and y cordinates where x will have features column and y will have target column"
   ]
  },
  {
   "cell_type": "code",
   "execution_count": 302,
   "metadata": {},
   "outputs": [
    {
     "data": {
      "text/plain": [
       "((32709, 14), (32709,))"
      ]
     },
     "execution_count": 302,
     "metadata": {},
     "output_type": "execute_result"
    }
   ],
   "source": [
    "y_train=train['delay_days']\n",
    "x_train=train.drop('delay_days',axis=1)\n",
    "\n",
    "x_train.shape,y_train.shape"
   ]
  },
  {
   "cell_type": "code",
   "execution_count": 303,
   "metadata": {},
   "outputs": [
    {
     "data": {
      "text/plain": [
       "((6932, 14), (6932,))"
      ]
     },
     "execution_count": 303,
     "metadata": {},
     "output_type": "execute_result"
    }
   ],
   "source": [
    "y_validation=validation['delay_days'] \n",
    "x_validation=validation.drop('delay_days',axis=1)\n",
    "                                              \n",
    "x_validation.shape,y_validation.shape"
   ]
  },
  {
   "cell_type": "code",
   "execution_count": 304,
   "metadata": {},
   "outputs": [
    {
     "data": {
      "text/plain": [
       "((6927, 14), (6927,))"
      ]
     },
     "execution_count": 304,
     "metadata": {},
     "output_type": "execute_result"
    }
   ],
   "source": [
    "y_test=test['delay_days'] \n",
    "x_test=test.drop('delay_days',axis=1)\n",
    "                                             \n",
    "x_test.shape,y_test.shape"
   ]
  },
  {
   "cell_type": "code",
   "execution_count": 305,
   "metadata": {},
   "outputs": [
    {
     "data": {
      "text/plain": [
       "38668   -3\n",
       "43423    1\n",
       "29372    1\n",
       "44263    4\n",
       "11268    4\n",
       "Name: delay_days, dtype: int64"
      ]
     },
     "execution_count": 305,
     "metadata": {},
     "output_type": "execute_result"
    }
   ],
   "source": [
    "y_test.head()"
   ]
  },
  {
   "cell_type": "markdown",
   "metadata": {},
   "source": [
    "# EDA"
   ]
  },
  {
   "cell_type": "code",
   "execution_count": 306,
   "metadata": {},
   "outputs": [
    {
     "data": {
      "text/plain": [
       "0"
      ]
     },
     "execution_count": 306,
     "metadata": {},
     "output_type": "execute_result"
    }
   ],
   "source": [
    "x_train.duplicated().sum()"
   ]
  },
  {
   "cell_type": "code",
   "execution_count": 307,
   "metadata": {},
   "outputs": [
    {
     "data": {
      "text/plain": [
       "0"
      ]
     },
     "execution_count": 307,
     "metadata": {},
     "output_type": "execute_result"
    }
   ],
   "source": [
    "transposedTrain=x_train.T\n",
    "transposedTrain.duplicated().sum()"
   ]
  },
  {
   "cell_type": "markdown",
   "metadata": {},
   "source": [
    "***No duplicates columns***"
   ]
  },
  {
   "cell_type": "markdown",
   "metadata": {},
   "source": [
    "***EDA on Training set***"
   ]
  },
  {
   "cell_type": "code",
   "execution_count": 308,
   "metadata": {},
   "outputs": [
    {
     "data": {
      "text/plain": [
       "Index(['business_code', 'cust_number', 'name_customer', 'clear_date',\n",
       "       'buisness_year', 'doc_id', 'posting_date', 'document_create_date.1',\n",
       "       'due_in_date', 'invoice_currency', 'document type', 'total_open_amount',\n",
       "       'baseline_create_date', 'cust_payment_terms'],\n",
       "      dtype='object')"
      ]
     },
     "execution_count": 308,
     "metadata": {},
     "output_type": "execute_result"
    }
   ],
   "source": [
    "x_train.columns"
   ]
  },
  {
   "cell_type": "code",
   "execution_count": 309,
   "metadata": {},
   "outputs": [
    {
     "data": {
      "text/plain": [
       "business_code                     object\n",
       "cust_number                       object\n",
       "name_customer                     object\n",
       "clear_date                datetime64[ns]\n",
       "buisness_year                    float64\n",
       "doc_id                           float64\n",
       "posting_date                      object\n",
       "document_create_date.1    datetime64[ns]\n",
       "due_in_date               datetime64[ns]\n",
       "invoice_currency                  object\n",
       "document type                     object\n",
       "total_open_amount                float64\n",
       "baseline_create_date      datetime64[ns]\n",
       "cust_payment_terms                object\n",
       "dtype: object"
      ]
     },
     "execution_count": 309,
     "metadata": {},
     "output_type": "execute_result"
    }
   ],
   "source": [
    "x_train.dtypes\n"
   ]
  },
  {
   "cell_type": "code",
   "execution_count": 310,
   "metadata": {},
   "outputs": [
    {
     "data": {
      "text/plain": [
       "['buisness_year', 'doc_id', 'total_open_amount']"
      ]
     },
     "execution_count": 310,
     "metadata": {},
     "output_type": "execute_result"
    }
   ],
   "source": [
    "# list all numerical column together\n",
    "numerical_columns=list(x_train.select_dtypes(include=np.number))\n",
    "numerical_columns"
   ]
  },
  {
   "cell_type": "code",
   "execution_count": 311,
   "metadata": {
    "scrolled": true
   },
   "outputs": [
    {
     "data": {
      "text/html": [
       "<div>\n",
       "<style scoped>\n",
       "    .dataframe tbody tr th:only-of-type {\n",
       "        vertical-align: middle;\n",
       "    }\n",
       "\n",
       "    .dataframe tbody tr th {\n",
       "        vertical-align: top;\n",
       "    }\n",
       "\n",
       "    .dataframe thead th {\n",
       "        text-align: right;\n",
       "    }\n",
       "</style>\n",
       "<table border=\"1\" class=\"dataframe\">\n",
       "  <thead>\n",
       "    <tr style=\"text-align: right;\">\n",
       "      <th></th>\n",
       "      <th>buisness_year</th>\n",
       "      <th>doc_id</th>\n",
       "      <th>total_open_amount</th>\n",
       "    </tr>\n",
       "  </thead>\n",
       "  <tbody>\n",
       "    <tr>\n",
       "      <th>count</th>\n",
       "      <td>32709.0</td>\n",
       "      <td>3.270900e+04</td>\n",
       "      <td>32709.000000</td>\n",
       "    </tr>\n",
       "    <tr>\n",
       "      <th>mean</th>\n",
       "      <td>2019.0</td>\n",
       "      <td>2.013776e+09</td>\n",
       "      <td>31681.284525</td>\n",
       "    </tr>\n",
       "    <tr>\n",
       "      <th>std</th>\n",
       "      <td>0.0</td>\n",
       "      <td>2.967244e+08</td>\n",
       "      <td>40122.746740</td>\n",
       "    </tr>\n",
       "    <tr>\n",
       "      <th>min</th>\n",
       "      <td>2019.0</td>\n",
       "      <td>1.928505e+09</td>\n",
       "      <td>1.030000</td>\n",
       "    </tr>\n",
       "    <tr>\n",
       "      <th>25%</th>\n",
       "      <td>2019.0</td>\n",
       "      <td>1.928993e+09</td>\n",
       "      <td>4462.240000</td>\n",
       "    </tr>\n",
       "    <tr>\n",
       "      <th>50%</th>\n",
       "      <td>2019.0</td>\n",
       "      <td>1.929420e+09</td>\n",
       "      <td>16850.420000</td>\n",
       "    </tr>\n",
       "    <tr>\n",
       "      <th>75%</th>\n",
       "      <td>2019.0</td>\n",
       "      <td>1.929769e+09</td>\n",
       "      <td>45313.820000</td>\n",
       "    </tr>\n",
       "    <tr>\n",
       "      <th>max</th>\n",
       "      <td>2019.0</td>\n",
       "      <td>9.500000e+09</td>\n",
       "      <td>792010.970000</td>\n",
       "    </tr>\n",
       "  </tbody>\n",
       "</table>\n",
       "</div>"
      ],
      "text/plain": [
       "       buisness_year        doc_id  total_open_amount\n",
       "count        32709.0  3.270900e+04       32709.000000\n",
       "mean          2019.0  2.013776e+09       31681.284525\n",
       "std              0.0  2.967244e+08       40122.746740\n",
       "min           2019.0  1.928505e+09           1.030000\n",
       "25%           2019.0  1.928993e+09        4462.240000\n",
       "50%           2019.0  1.929420e+09       16850.420000\n",
       "75%           2019.0  1.929769e+09       45313.820000\n",
       "max           2019.0  9.500000e+09      792010.970000"
      ]
     },
     "execution_count": 311,
     "metadata": {},
     "output_type": "execute_result"
    }
   ],
   "source": [
    "x_train[numerical_columns].describe()"
   ]
  },
  {
   "cell_type": "code",
   "execution_count": 312,
   "metadata": {},
   "outputs": [],
   "source": [
    "# as business_year column have standard deviation equals to 0, it means it is constant columns"
   ]
  },
  {
   "cell_type": "code",
   "execution_count": 313,
   "metadata": {},
   "outputs": [
    {
     "data": {
      "text/plain": [
       "buisness_year        0.000000\n",
       "doc_id               5.509700\n",
       "total_open_amount    3.028552\n",
       "dtype: float64"
      ]
     },
     "execution_count": 313,
     "metadata": {},
     "output_type": "execute_result"
    }
   ],
   "source": [
    "x_train[numerical_columns].skew()"
   ]
  },
  {
   "cell_type": "code",
   "execution_count": 314,
   "metadata": {},
   "outputs": [],
   "source": [
    "# as we know skew value should be the range of (-0.5 to 0.5), and here columns['doc_id',total_open_amount,baseline_create_date and invoice_id] is high, so we will do log transform"
   ]
  },
  {
   "cell_type": "code",
   "execution_count": 315,
   "metadata": {},
   "outputs": [
    {
     "data": {
      "text/plain": [
       "['business_code',\n",
       " 'cust_number',\n",
       " 'name_customer',\n",
       " 'posting_date',\n",
       " 'invoice_currency',\n",
       " 'document type',\n",
       " 'cust_payment_terms']"
      ]
     },
     "execution_count": 315,
     "metadata": {},
     "output_type": "execute_result"
    }
   ],
   "source": [
    "# separate categorical column from numerical column\n",
    "categorical_columns=list(x_train.columns[x_train.dtypes=='object'])\n",
    "categorical_columns"
   ]
  },
  {
   "cell_type": "code",
   "execution_count": 316,
   "metadata": {},
   "outputs": [
    {
     "data": {
      "text/plain": [
       "business_code            6\n",
       "cust_number           1310\n",
       "name_customer         3628\n",
       "posting_date           283\n",
       "invoice_currency         2\n",
       "document type            2\n",
       "cust_payment_terms      66\n",
       "dtype: int64"
      ]
     },
     "execution_count": 316,
     "metadata": {},
     "output_type": "execute_result"
    }
   ],
   "source": [
    "# no. of unique value in each categorical_columns\n",
    "x_train[categorical_columns].nunique()"
   ]
  },
  {
   "cell_type": "code",
   "execution_count": 317,
   "metadata": {},
   "outputs": [
    {
     "name": "stdout",
     "output_type": "stream",
     "text": [
      "business_code\n",
      "['CA02' 'U001' 'U013' 'U002' 'U005' 'U007'] \n",
      "\n",
      "cust_number\n",
      "['0100054173' '0200148860' '0200769623' ... '0200164995' '0200609718'\n",
      " '0100043946'] \n",
      "\n",
      "name_customer\n",
      "['DIA corporation' 'DOLLA foundation' 'WAL-MAR systems' ... 'BI MA trust'\n",
      " \"D'B foundation\" 'INDIANH llc'] \n",
      "\n",
      "posting_date\n",
      "['2019-03-29' '2018-12-30' '2018-12-31' '2019-01-01' '2019-01-02'\n",
      " '2019-01-03' '2019-01-04' '2019-01-05' '2019-01-06' '2019-01-07'\n",
      " '2019-01-08' '2019-01-09' '2019-01-10' '2019-01-11' '2019-01-12'\n",
      " '2019-01-13' '2019-01-14' '2019-01-15' '2019-01-16' '2019-01-17'\n",
      " '2019-01-18' '2019-01-19' '2019-01-20' '2019-01-21' '2019-01-22'\n",
      " '2019-01-23' '2019-01-24' '2019-01-25' '2019-01-26' '2019-01-27'\n",
      " '2019-01-28' '2019-01-29' '2019-01-30' '2019-01-31' '2019-02-01'\n",
      " '2019-02-02' '2019-02-03' '2019-02-04' '2019-02-05' '2019-02-06'\n",
      " '2019-02-07' '2019-02-08' '2019-02-09' '2019-02-10' '2019-02-11'\n",
      " '2019-02-12' '2019-02-13' '2019-02-14' '2019-02-15' '2019-02-16'\n",
      " '2019-02-17' '2019-02-18' '2019-02-19' '2019-02-20' '2019-02-21'\n",
      " '2019-02-22' '2019-02-23' '2019-02-24' '2019-02-25' '2019-02-26'\n",
      " '2019-02-27' '2019-02-28' '2019-03-01' '2019-03-02' '2019-03-03'\n",
      " '2019-03-04' '2019-03-05' '2019-03-06' '2019-03-07' '2019-03-08'\n",
      " '2019-03-09' '2019-03-10' '2019-03-11' '2019-03-12' '2019-03-13'\n",
      " '2019-03-14' '2019-03-15' '2019-03-16' '2019-03-17' '2019-03-18'\n",
      " '2019-03-19' '2019-03-20' '2019-03-21' '2019-03-22' '2019-03-23'\n",
      " '2019-03-24' '2019-03-25' '2019-03-26' '2019-03-27' '2019-03-28'\n",
      " '2019-03-30' '2019-03-31' '2019-04-01' '2019-04-02' '2019-04-03'\n",
      " '2019-04-04' '2019-04-05' '2019-04-06' '2019-04-07' '2019-04-08'\n",
      " '2019-04-09' '2019-04-10' '2019-04-11' '2019-04-12' '2019-04-13'\n",
      " '2019-04-14' '2019-04-15' '2019-04-16' '2019-04-17' '2019-04-18'\n",
      " '2019-04-19' '2019-04-20' '2019-04-21' '2019-04-22' '2019-04-23'\n",
      " '2019-04-24' '2019-04-25' '2019-04-26' '2019-04-27' '2019-04-28'\n",
      " '2019-04-29' '2019-04-30' '2019-05-01' '2019-05-02' '2019-05-03'\n",
      " '2019-05-04' '2019-05-05' '2019-05-06' '2019-05-07' '2019-05-08'\n",
      " '2019-05-09' '2019-05-10' '2019-05-11' '2019-05-12' '2019-05-13'\n",
      " '2019-05-14' '2019-05-15' '2019-05-16' '2019-05-17' '2019-05-18'\n",
      " '2019-05-19' '2019-05-20' '2019-05-21' '2019-05-22' '2019-05-23'\n",
      " '2019-05-24' '2019-05-25' '2019-05-26' '2019-05-27' '2019-05-28'\n",
      " '2019-05-29' '2019-05-30' '2019-05-31' '2019-06-01' '2019-06-02'\n",
      " '2019-06-03' '2019-06-04' '2019-06-05' '2019-06-06' '2019-06-07'\n",
      " '2019-06-08' '2019-06-09' '2019-06-10' '2019-06-11' '2019-06-12'\n",
      " '2019-06-13' '2019-06-14' '2019-06-15' '2019-06-16' '2019-06-17'\n",
      " '2019-06-18' '2019-06-19' '2019-06-20' '2019-06-21' '2019-06-22'\n",
      " '2019-06-23' '2019-06-24' '2019-06-25' '2019-06-26' '2019-06-27'\n",
      " '2019-06-28' '2019-06-29' '2019-06-30' '2019-07-01' '2019-07-02'\n",
      " '2019-07-03' '2019-07-04' '2019-07-05' '2019-07-06' '2019-07-07'\n",
      " '2019-07-08' '2019-07-09' '2019-07-10' '2019-07-11' '2019-07-12'\n",
      " '2019-07-13' '2019-07-14' '2019-07-15' '2019-07-16' '2019-07-17'\n",
      " '2019-07-18' '2019-07-19' '2019-07-20' '2019-07-21' '2019-07-22'\n",
      " '2019-07-23' '2019-07-24' '2019-07-25' '2019-07-26' '2019-07-27'\n",
      " '2019-07-28' '2019-07-29' '2019-07-30' '2019-07-31' '2019-08-01'\n",
      " '2019-08-02' '2019-08-03' '2019-08-04' '2019-08-05' '2019-08-06'\n",
      " '2019-08-07' '2019-08-08' '2019-08-09' '2019-08-10' '2019-08-11'\n",
      " '2019-08-12' '2019-08-13' '2019-08-14' '2019-08-15' '2019-08-16'\n",
      " '2019-08-17' '2019-08-18' '2019-08-19' '2019-08-20' '2019-08-21'\n",
      " '2019-08-22' '2019-08-23' '2019-08-24' '2019-08-25' '2019-08-26'\n",
      " '2019-08-27' '2019-08-28' '2019-08-29' '2019-08-30' '2019-08-31'\n",
      " '2019-09-01' '2019-09-02' '2019-09-03' '2019-09-04' '2019-09-05'\n",
      " '2019-09-06' '2019-09-07' '2019-09-08' '2019-09-09' '2019-09-10'\n",
      " '2019-09-11' '2019-09-12' '2019-09-13' '2019-09-14' '2019-09-15'\n",
      " '2019-09-16' '2019-09-17' '2019-09-18' '2019-09-19' '2019-09-20'\n",
      " '2019-09-21' '2019-09-22' '2019-09-23' '2019-09-24' '2019-09-25'\n",
      " '2019-09-26' '2019-09-27' '2019-09-28' '2019-09-29' '2019-09-30'\n",
      " '2019-10-01' '2019-10-02' '2019-10-03' '2019-10-04' '2019-10-05'\n",
      " '2019-10-06' '2019-10-07' '2019-10-08'] \n",
      "\n",
      "invoice_currency\n",
      "['CAD' 'USD'] \n",
      "\n",
      "document type\n",
      "['X2' 'RV'] \n",
      "\n",
      "cust_payment_terms\n",
      "['CA10' 'NAA8' 'NAH4' 'NAC6' 'NAU5' 'NAG2' 'NAVE' 'NAVF' 'NAX2' 'NAAX'\n",
      " 'NA9X' 'NAAW' 'NAD1' 'NA32' 'NAVM' 'NAD5' 'NAVQ' 'NAM4' 'NAM2' 'NA10'\n",
      " 'NAM1' 'CA30' 'NAWM' 'NAWP' 'NAUZ' 'NABG' 'NA3F' 'NAVL' 'NA3B' 'NAD4'\n",
      " 'NA38' 'NAV2' 'NAUP' 'NAGD' 'NAB1' 'BR56' 'NANC' 'NABD' 'CAB1' 'NACB'\n",
      " 'C106' 'B030' 'BR12' 'NA25' 'NAV9' 'NAVC' 'NAM3' 'CAX2' 'NAUY' 'NATH'\n",
      " 'NAD8' 'NA8Q' 'NAVD' 'NAUX' 'NA84' 'NATJ' 'NAVR' 'NATK' 'NAWN' 'NATL'\n",
      " 'NATM' 'CA60' 'B052' 'NATU' 'B112' 'NAWU'] \n",
      "\n"
     ]
    }
   ],
   "source": [
    "#display categorical_column unique value\n",
    "for col in categorical_columns:\n",
    "    print(col)\n",
    "    print(x_train[col].unique(),'\\n')\n"
   ]
  },
  {
   "cell_type": "markdown",
   "metadata": {},
   "source": [
    "***We can create a new column from business_code which will store only the string part of the values as we can see that those are repeated in the data(EX: U and CA)\n",
    "we can see there is two types value in invoice_currency(USD and CAD) and in document type column(RV and X2) .\n",
    "Also the column Cust_payement_terms have 67 .And \n",
    "There is no constant categorical column as there is no singular unique value in any of the unique list.\n",
    "We need to encode the those categorical columns.\n",
    "Also customer name and number have large no of unique value but they wont helpful in predicting so we wont be including those.***\n",
    "\n",
    "\n"
   ]
  },
  {
   "cell_type": "markdown",
   "metadata": {},
   "source": [
    "# VISUALIZATION"
   ]
  },
  {
   "cell_type": "code",
   "execution_count": 318,
   "metadata": {},
   "outputs": [
    {
     "data": {
      "text/plain": [
       "5     3945\n",
       "4     3800\n",
       "8     3553\n",
       "7     3514\n",
       "9     3437\n",
       "3     3429\n",
       "6     3358\n",
       "2     2895\n",
       "10    2668\n",
       "1     1641\n",
       "11     408\n",
       "12      61\n",
       "Name: clear_date, dtype: int64"
      ]
     },
     "execution_count": 318,
     "metadata": {},
     "output_type": "execute_result"
    }
   ],
   "source": [
    "clear_month = x_train['clear_date'].dt.month\n",
    "clear_month.value_counts()"
   ]
  },
  {
   "cell_type": "code",
   "execution_count": 319,
   "metadata": {},
   "outputs": [
    {
     "data": {
      "image/png": "[encoded data removed]",
      "text/plain": [
       "<Figure size 432x432 with 1 Axes>"
      ]
     },
     "metadata": {},
     "output_type": "display_data"
    }
   ],
   "source": [
    "# visualizing the month in which the maximum custmer has cleared payment\n",
    "plt.figure(figsize=(6,6)) \n",
    "sns.set_style('dark')\n",
    "sns.countplot(x=clear_month, palette=\"hls\")\n",
    "plt.show() \n",
    "\n"
   ]
  },
  {
   "cell_type": "code",
   "execution_count": 320,
   "metadata": {},
   "outputs": [],
   "source": [
    "# we can see the clearing of dues increases from feb and maximum is done in May and it is less done month of dec."
   ]
  },
  {
   "cell_type": "code",
   "execution_count": 321,
   "metadata": {},
   "outputs": [
    {
     "data": {
      "text/plain": [
       "Timestamp('2018-12-21 00:00:00')"
      ]
     },
     "execution_count": 321,
     "metadata": {},
     "output_type": "execute_result"
    }
   ],
   "source": [
    "x_train[\"document_create_date.1\"].min() #checking for document_create_date.1 i.e the document on which the invoice was created"
   ]
  },
  {
   "cell_type": "code",
   "execution_count": 322,
   "metadata": {},
   "outputs": [
    {
     "data": {
      "text/plain": [
       "Timestamp('2019-10-08 00:00:00')"
      ]
     },
     "execution_count": 322,
     "metadata": {},
     "output_type": "execute_result"
    }
   ],
   "source": [
    "x_train[\"document_create_date.1\"].max()\n",
    "\n"
   ]
  },
  {
   "cell_type": "code",
   "execution_count": 323,
   "metadata": {},
   "outputs": [],
   "source": [
    "#form here we see that document creation is done from 2018-12-21 to 2019-10-08"
   ]
  },
  {
   "cell_type": "code",
   "execution_count": 324,
   "metadata": {},
   "outputs": [
    {
     "data": {
      "text/plain": [
       "3     3891\n",
       "5     3698\n",
       "6     3601\n",
       "8     3597\n",
       "4     3589\n",
       "7     3417\n",
       "9     3411\n",
       "1     3238\n",
       "2     3160\n",
       "10     958\n",
       "12     149\n",
       "Name: document_create_date.1, dtype: int64"
      ]
     },
     "execution_count": 324,
     "metadata": {},
     "output_type": "execute_result"
    }
   ],
   "source": [
    "doc_create_month = x_train[\"document_create_date.1\"].dt.month\n",
    "doc_create_month.value_counts()"
   ]
  },
  {
   "cell_type": "code",
   "execution_count": 325,
   "metadata": {},
   "outputs": [
    {
     "data": {
      "image/png": "[encoded data removed]",
      "text/plain": [
       "<Figure size 432x432 with 1 Axes>"
      ]
     },
     "metadata": {},
     "output_type": "display_data"
    }
   ],
   "source": [
    "plot_count(doc_create_month, palette = \"hls\")\n",
    "\n",
    "#from the graph we see that document creation fro each month decreases"
   ]
  },
  {
   "cell_type": "code",
   "execution_count": 326,
   "metadata": {},
   "outputs": [],
   "source": [
    "# we see that there is document created in month of nov."
   ]
  },
  {
   "cell_type": "code",
   "execution_count": 327,
   "metadata": {},
   "outputs": [
    {
     "data": {
      "text/plain": [
       "<AxesSubplot:ylabel='total_open_amount'>"
      ]
     },
     "execution_count": 327,
     "metadata": {},
     "output_type": "execute_result"
    },
    {
     "data": {
      "image/png": "[encoded data removed]",
      "text/plain": [
       "<Figure size 576x576 with 1 Axes>"
      ]
     },
     "metadata": {},
     "output_type": "display_data"
    }
   ],
   "source": [
    "plt.figure(figsize=(8,8))\n",
    "sns.boxplot(y =x_train['total_open_amount'])"
   ]
  },
  {
   "cell_type": "markdown",
   "metadata": {},
   "source": [
    "We observe that maximum company have total_open_amount less than 1 lakh ."
   ]
  },
  {
   "cell_type": "markdown",
   "metadata": {},
   "source": [
    "# FEATURE ENGINEERING\n"
   ]
  },
  {
   "cell_type": "markdown",
   "metadata": {},
   "source": [
    "***Binarization***"
   ]
  },
  {
   "cell_type": "code",
   "execution_count": 328,
   "metadata": {},
   "outputs": [
    {
     "data": {
      "text/html": [
       "<div>\n",
       "<style scoped>\n",
       "    .dataframe tbody tr th:only-of-type {\n",
       "        vertical-align: middle;\n",
       "    }\n",
       "\n",
       "    .dataframe tbody tr th {\n",
       "        vertical-align: top;\n",
       "    }\n",
       "\n",
       "    .dataframe thead th {\n",
       "        text-align: right;\n",
       "    }\n",
       "</style>\n",
       "<table border=\"1\" class=\"dataframe\">\n",
       "  <thead>\n",
       "    <tr style=\"text-align: right;\">\n",
       "      <th></th>\n",
       "      <th>business_code</th>\n",
       "      <th>cust_number</th>\n",
       "      <th>name_customer</th>\n",
       "      <th>clear_date</th>\n",
       "      <th>buisness_year</th>\n",
       "      <th>doc_id</th>\n",
       "      <th>posting_date</th>\n",
       "      <th>document_create_date.1</th>\n",
       "      <th>due_in_date</th>\n",
       "      <th>invoice_currency</th>\n",
       "      <th>document type</th>\n",
       "      <th>total_open_amount</th>\n",
       "      <th>baseline_create_date</th>\n",
       "      <th>cust_payment_terms</th>\n",
       "    </tr>\n",
       "  </thead>\n",
       "  <tbody>\n",
       "    <tr>\n",
       "      <th>33377</th>\n",
       "      <td>CA02</td>\n",
       "      <td>0100054173</td>\n",
       "      <td>DIA corporation</td>\n",
       "      <td>2019-09-25</td>\n",
       "      <td>2019.0</td>\n",
       "      <td>9.500000e+09</td>\n",
       "      <td>2019-03-29</td>\n",
       "      <td>2018-12-21</td>\n",
       "      <td>2018-12-31</td>\n",
       "      <td>CAD</td>\n",
       "      <td>X2</td>\n",
       "      <td>255.00</td>\n",
       "      <td>1970-01-01 00:00:00.020181221</td>\n",
       "      <td>CA10</td>\n",
       "    </tr>\n",
       "    <tr>\n",
       "      <th>10048</th>\n",
       "      <td>U001</td>\n",
       "      <td>0200148860</td>\n",
       "      <td>DOLLA foundation</td>\n",
       "      <td>2019-01-14</td>\n",
       "      <td>2019.0</td>\n",
       "      <td>1.928540e+09</td>\n",
       "      <td>2018-12-30</td>\n",
       "      <td>2018-12-30</td>\n",
       "      <td>2019-01-14</td>\n",
       "      <td>USD</td>\n",
       "      <td>RV</td>\n",
       "      <td>16501.75</td>\n",
       "      <td>1970-01-01 00:00:00.020181230</td>\n",
       "      <td>NAA8</td>\n",
       "    </tr>\n",
       "    <tr>\n",
       "      <th>3172</th>\n",
       "      <td>U001</td>\n",
       "      <td>0200769623</td>\n",
       "      <td>WAL-MAR systems</td>\n",
       "      <td>2019-01-09</td>\n",
       "      <td>2019.0</td>\n",
       "      <td>1.928539e+09</td>\n",
       "      <td>2018-12-30</td>\n",
       "      <td>2018-12-30</td>\n",
       "      <td>2019-01-14</td>\n",
       "      <td>USD</td>\n",
       "      <td>RV</td>\n",
       "      <td>3424.07</td>\n",
       "      <td>1970-01-01 00:00:00.020181230</td>\n",
       "      <td>NAH4</td>\n",
       "    </tr>\n",
       "    <tr>\n",
       "      <th>6239</th>\n",
       "      <td>U001</td>\n",
       "      <td>0200759878</td>\n",
       "      <td>SA llc</td>\n",
       "      <td>2019-01-15</td>\n",
       "      <td>2019.0</td>\n",
       "      <td>1.928540e+09</td>\n",
       "      <td>2018-12-30</td>\n",
       "      <td>2018-12-30</td>\n",
       "      <td>2019-01-14</td>\n",
       "      <td>USD</td>\n",
       "      <td>RV</td>\n",
       "      <td>14257.87</td>\n",
       "      <td>1970-01-01 00:00:00.020181230</td>\n",
       "      <td>NAH4</td>\n",
       "    </tr>\n",
       "    <tr>\n",
       "      <th>31812</th>\n",
       "      <td>U001</td>\n",
       "      <td>0200762301</td>\n",
       "      <td>C&amp;S WH trust</td>\n",
       "      <td>2019-01-15</td>\n",
       "      <td>2019.0</td>\n",
       "      <td>1.928532e+09</td>\n",
       "      <td>2018-12-30</td>\n",
       "      <td>2018-12-30</td>\n",
       "      <td>2019-01-14</td>\n",
       "      <td>USD</td>\n",
       "      <td>RV</td>\n",
       "      <td>35530.13</td>\n",
       "      <td>1970-01-01 00:00:00.020181230</td>\n",
       "      <td>NAC6</td>\n",
       "    </tr>\n",
       "  </tbody>\n",
       "</table>\n",
       "</div>"
      ],
      "text/plain": [
       "      business_code cust_number     name_customer clear_date  buisness_year  \\\n",
       "33377          CA02  0100054173   DIA corporation 2019-09-25         2019.0   \n",
       "10048          U001  0200148860  DOLLA foundation 2019-01-14         2019.0   \n",
       "3172           U001  0200769623   WAL-MAR systems 2019-01-09         2019.0   \n",
       "6239           U001  0200759878            SA llc 2019-01-15         2019.0   \n",
       "31812          U001  0200762301      C&S WH trust 2019-01-15         2019.0   \n",
       "\n",
       "             doc_id posting_date document_create_date.1 due_in_date  \\\n",
       "33377  9.500000e+09   2019-03-29             2018-12-21  2018-12-31   \n",
       "10048  1.928540e+09   2018-12-30             2018-12-30  2019-01-14   \n",
       "3172   1.928539e+09   2018-12-30             2018-12-30  2019-01-14   \n",
       "6239   1.928540e+09   2018-12-30             2018-12-30  2019-01-14   \n",
       "31812  1.928532e+09   2018-12-30             2018-12-30  2019-01-14   \n",
       "\n",
       "      invoice_currency document type  total_open_amount  \\\n",
       "33377              CAD            X2             255.00   \n",
       "10048              USD            RV           16501.75   \n",
       "3172               USD            RV            3424.07   \n",
       "6239               USD            RV           14257.87   \n",
       "31812              USD            RV           35530.13   \n",
       "\n",
       "               baseline_create_date cust_payment_terms  \n",
       "33377 1970-01-01 00:00:00.020181221               CA10  \n",
       "10048 1970-01-01 00:00:00.020181230               NAA8  \n",
       "3172  1970-01-01 00:00:00.020181230               NAH4  \n",
       "6239  1970-01-01 00:00:00.020181230               NAH4  \n",
       "31812 1970-01-01 00:00:00.020181230               NAC6  "
      ]
     },
     "execution_count": 328,
     "metadata": {},
     "output_type": "execute_result"
    }
   ],
   "source": [
    "x_train.head()"
   ]
  },
  {
   "cell_type": "code",
   "execution_count": 329,
   "metadata": {},
   "outputs": [
    {
     "data": {
      "text/plain": [
       "1"
      ]
     },
     "execution_count": 329,
     "metadata": {},
     "output_type": "execute_result"
    }
   ],
   "source": [
    "x_train['buisness_year'].nunique()"
   ]
  },
  {
   "cell_type": "code",
   "execution_count": 330,
   "metadata": {},
   "outputs": [
    {
     "data": {
      "text/plain": [
       "2"
      ]
     },
     "execution_count": 330,
     "metadata": {},
     "output_type": "execute_result"
    }
   ],
   "source": [
    "x_train['buisness_year'].nunique()\n",
    "x_test['buisness_year'].nunique()"
   ]
  },
  {
   "cell_type": "code",
   "execution_count": 331,
   "metadata": {},
   "outputs": [
    {
     "data": {
      "text/plain": [
       "1"
      ]
     },
     "execution_count": 331,
     "metadata": {},
     "output_type": "execute_result"
    }
   ],
   "source": [
    "x_train['buisness_year'].nunique()\n",
    "x_test['buisness_year'].nunique()\n",
    "x_validation['buisness_year'].nunique()"
   ]
  },
  {
   "cell_type": "code",
   "execution_count": 332,
   "metadata": {},
   "outputs": [],
   "source": [
    "#we can see business year distribution , and it shows it wont have feed this to our model"
   ]
  },
  {
   "cell_type": "code",
   "execution_count": 333,
   "metadata": {},
   "outputs": [],
   "source": [
    "# assigning value 1 to invoice_currency =USD and CAD as 0\n",
    "x_train['invoice_currency']=np.where(x_train['invoice_currency']=='USD',1,0)"
   ]
  },
  {
   "cell_type": "code",
   "execution_count": 334,
   "metadata": {},
   "outputs": [],
   "source": [
    "# doing the same on test and validation set\n",
    "x_validation['invoice_currency']=np.where(x_validation['invoice_currency']=='USD',1,0)\n",
    "x_test['invoice_currency']=np.where(x_test['invoice_currency']=='USD',1,0)\n"
   ]
  },
  {
   "cell_type": "code",
   "execution_count": 335,
   "metadata": {},
   "outputs": [],
   "source": [
    "#assigning value 1 to document type =X2 and RV as 0\n",
    "x_train['document type']=np.where(x_train['document type']=='X2',1,0)"
   ]
  },
  {
   "cell_type": "code",
   "execution_count": 336,
   "metadata": {},
   "outputs": [],
   "source": [
    "# doing the same on test and validation set\n",
    "x_validation['document type']=np.where(x_validation['document type']=='USD',1,0)\n",
    "x_test['document type']=np.where(x_test['document type']=='USD',1,0)\n"
   ]
  },
  {
   "cell_type": "code",
   "execution_count": 337,
   "metadata": {},
   "outputs": [],
   "source": [
    "#label encoding"
   ]
  },
  {
   "cell_type": "code",
   "execution_count": 338,
   "metadata": {},
   "outputs": [],
   "source": [
    " x_train.insert(3, \"CustNumber\",label.fit_transform(x_train['cust_number']))"
   ]
  },
  {
   "cell_type": "code",
   "execution_count": 339,
   "metadata": {},
   "outputs": [],
   "source": [
    " x_test.insert(3, \"CustNumber\",label.fit_transform(x_test['cust_number']))"
   ]
  },
  {
   "cell_type": "code",
   "execution_count": 340,
   "metadata": {},
   "outputs": [],
   "source": [
    "x_validation.insert(3,\"CustNumber\", label.fit_transform(x_validation['cust_number']))"
   ]
  },
  {
   "cell_type": "code",
   "execution_count": 341,
   "metadata": {},
   "outputs": [],
   "source": [
    "x_train.insert(13, \"document_type_label\",label.fit_transform(x_train['document type']))\n",
    "x_validation.insert(13, \"document_type_label\",label.fit_transform(x_validation['document type']))\n",
    "x_test.insert(13, \"document_type_label\",label.fit_transform(x_test['document type']))"
   ]
  },
  {
   "cell_type": "code",
   "execution_count": 342,
   "metadata": {},
   "outputs": [
    {
     "data": {
      "text/html": [
       "<div>\n",
       "<style scoped>\n",
       "    .dataframe tbody tr th:only-of-type {\n",
       "        vertical-align: middle;\n",
       "    }\n",
       "\n",
       "    .dataframe tbody tr th {\n",
       "        vertical-align: top;\n",
       "    }\n",
       "\n",
       "    .dataframe thead th {\n",
       "        text-align: right;\n",
       "    }\n",
       "</style>\n",
       "<table border=\"1\" class=\"dataframe\">\n",
       "  <thead>\n",
       "    <tr style=\"text-align: right;\">\n",
       "      <th></th>\n",
       "      <th>business_code</th>\n",
       "      <th>cust_number</th>\n",
       "      <th>name_customer</th>\n",
       "      <th>CustNumber</th>\n",
       "      <th>clear_date</th>\n",
       "      <th>buisness_year</th>\n",
       "      <th>doc_id</th>\n",
       "      <th>posting_date</th>\n",
       "      <th>document_create_date.1</th>\n",
       "      <th>due_in_date</th>\n",
       "      <th>invoice_currency</th>\n",
       "      <th>document type</th>\n",
       "      <th>total_open_amount</th>\n",
       "      <th>document_type_label</th>\n",
       "      <th>baseline_create_date</th>\n",
       "      <th>cust_payment_terms</th>\n",
       "    </tr>\n",
       "  </thead>\n",
       "  <tbody>\n",
       "    <tr>\n",
       "      <th>33377</th>\n",
       "      <td>CA02</td>\n",
       "      <td>0100054173</td>\n",
       "      <td>DIA corporation</td>\n",
       "      <td>274</td>\n",
       "      <td>2019-09-25</td>\n",
       "      <td>2019.0</td>\n",
       "      <td>9.500000e+09</td>\n",
       "      <td>2019-03-29</td>\n",
       "      <td>2018-12-21</td>\n",
       "      <td>2018-12-31</td>\n",
       "      <td>0</td>\n",
       "      <td>1</td>\n",
       "      <td>255.00</td>\n",
       "      <td>1</td>\n",
       "      <td>1970-01-01 00:00:00.020181221</td>\n",
       "      <td>CA10</td>\n",
       "    </tr>\n",
       "    <tr>\n",
       "      <th>10048</th>\n",
       "      <td>U001</td>\n",
       "      <td>0200148860</td>\n",
       "      <td>DOLLA foundation</td>\n",
       "      <td>455</td>\n",
       "      <td>2019-01-14</td>\n",
       "      <td>2019.0</td>\n",
       "      <td>1.928540e+09</td>\n",
       "      <td>2018-12-30</td>\n",
       "      <td>2018-12-30</td>\n",
       "      <td>2019-01-14</td>\n",
       "      <td>1</td>\n",
       "      <td>0</td>\n",
       "      <td>16501.75</td>\n",
       "      <td>0</td>\n",
       "      <td>1970-01-01 00:00:00.020181230</td>\n",
       "      <td>NAA8</td>\n",
       "    </tr>\n",
       "    <tr>\n",
       "      <th>3172</th>\n",
       "      <td>U001</td>\n",
       "      <td>0200769623</td>\n",
       "      <td>WAL-MAR systems</td>\n",
       "      <td>781</td>\n",
       "      <td>2019-01-09</td>\n",
       "      <td>2019.0</td>\n",
       "      <td>1.928539e+09</td>\n",
       "      <td>2018-12-30</td>\n",
       "      <td>2018-12-30</td>\n",
       "      <td>2019-01-14</td>\n",
       "      <td>1</td>\n",
       "      <td>0</td>\n",
       "      <td>3424.07</td>\n",
       "      <td>0</td>\n",
       "      <td>1970-01-01 00:00:00.020181230</td>\n",
       "      <td>NAH4</td>\n",
       "    </tr>\n",
       "    <tr>\n",
       "      <th>6239</th>\n",
       "      <td>U001</td>\n",
       "      <td>0200759878</td>\n",
       "      <td>SA llc</td>\n",
       "      <td>760</td>\n",
       "      <td>2019-01-15</td>\n",
       "      <td>2019.0</td>\n",
       "      <td>1.928540e+09</td>\n",
       "      <td>2018-12-30</td>\n",
       "      <td>2018-12-30</td>\n",
       "      <td>2019-01-14</td>\n",
       "      <td>1</td>\n",
       "      <td>0</td>\n",
       "      <td>14257.87</td>\n",
       "      <td>0</td>\n",
       "      <td>1970-01-01 00:00:00.020181230</td>\n",
       "      <td>NAH4</td>\n",
       "    </tr>\n",
       "    <tr>\n",
       "      <th>31812</th>\n",
       "      <td>U001</td>\n",
       "      <td>0200762301</td>\n",
       "      <td>C&amp;S WH trust</td>\n",
       "      <td>765</td>\n",
       "      <td>2019-01-15</td>\n",
       "      <td>2019.0</td>\n",
       "      <td>1.928532e+09</td>\n",
       "      <td>2018-12-30</td>\n",
       "      <td>2018-12-30</td>\n",
       "      <td>2019-01-14</td>\n",
       "      <td>1</td>\n",
       "      <td>0</td>\n",
       "      <td>35530.13</td>\n",
       "      <td>0</td>\n",
       "      <td>1970-01-01 00:00:00.020181230</td>\n",
       "      <td>NAC6</td>\n",
       "    </tr>\n",
       "  </tbody>\n",
       "</table>\n",
       "</div>"
      ],
      "text/plain": [
       "      business_code cust_number     name_customer  CustNumber clear_date  \\\n",
       "33377          CA02  0100054173   DIA corporation         274 2019-09-25   \n",
       "10048          U001  0200148860  DOLLA foundation         455 2019-01-14   \n",
       "3172           U001  0200769623   WAL-MAR systems         781 2019-01-09   \n",
       "6239           U001  0200759878            SA llc         760 2019-01-15   \n",
       "31812          U001  0200762301      C&S WH trust         765 2019-01-15   \n",
       "\n",
       "       buisness_year        doc_id posting_date document_create_date.1  \\\n",
       "33377         2019.0  9.500000e+09   2019-03-29             2018-12-21   \n",
       "10048         2019.0  1.928540e+09   2018-12-30             2018-12-30   \n",
       "3172          2019.0  1.928539e+09   2018-12-30             2018-12-30   \n",
       "6239          2019.0  1.928540e+09   2018-12-30             2018-12-30   \n",
       "31812         2019.0  1.928532e+09   2018-12-30             2018-12-30   \n",
       "\n",
       "      due_in_date  invoice_currency  document type  total_open_amount  \\\n",
       "33377  2018-12-31                 0              1             255.00   \n",
       "10048  2019-01-14                 1              0           16501.75   \n",
       "3172   2019-01-14                 1              0            3424.07   \n",
       "6239   2019-01-14                 1              0           14257.87   \n",
       "31812  2019-01-14                 1              0           35530.13   \n",
       "\n",
       "       document_type_label          baseline_create_date cust_payment_terms  \n",
       "33377                    1 1970-01-01 00:00:00.020181221               CA10  \n",
       "10048                    0 1970-01-01 00:00:00.020181230               NAA8  \n",
       "3172                     0 1970-01-01 00:00:00.020181230               NAH4  \n",
       "6239                     0 1970-01-01 00:00:00.020181230               NAH4  \n",
       "31812                    0 1970-01-01 00:00:00.020181230               NAC6  "
      ]
     },
     "execution_count": 342,
     "metadata": {},
     "output_type": "execute_result"
    }
   ],
   "source": [
    "x_train.head()"
   ]
  },
  {
   "cell_type": "code",
   "execution_count": 343,
   "metadata": {},
   "outputs": [],
   "source": [
    "# lets extract from date column"
   ]
  },
  {
   "cell_type": "code",
   "execution_count": 344,
   "metadata": {},
   "outputs": [],
   "source": [
    "x_train['month'] = x_train['clear_date'].dt.month #finding month of clear_date\n",
    "x_validation['month'] = x_validation['clear_date'].dt.month\n",
    "x_test['month'] = x_test['clear_date'].dt.month"
   ]
  },
  {
   "cell_type": "code",
   "execution_count": 345,
   "metadata": {},
   "outputs": [],
   "source": [
    " #finding of dayofweek\n",
    "x_train['dayofweek'] = x_train['clear_date'].dt.dayofweek\n",
    "x_validation['dayofweek'] = x_validation['clear_date'].dt.dayofweek\n",
    "x_test['dayofweek'] = x_test['clear_date'].dt.dayofweek"
   ]
  },
  {
   "cell_type": "code",
   "execution_count": 346,
   "metadata": {},
   "outputs": [],
   "source": [
    " #checking whether dayofweek is weekend and binarize them\n",
    "#5th and 6th day of the week counts as Sat and Sun , so we mark them as 1\n",
    "x_train['isweekend']=np.where(x_train['dayofweek'].isin([5,6]),1,0)\n",
    "x_validation['isweekend']=np.where(x_validation['dayofweek'].isin([5,6]),1,0)\n",
    "x_test['isweekend']=np.where(x_test['dayofweek'].isin([5,6]),1,0)"
   ]
  },
  {
   "cell_type": "markdown",
   "metadata": {},
   "source": [
    "***Bining the total_oepn_amount***"
   ]
  },
  {
   "cell_type": "code",
   "execution_count": 347,
   "metadata": {},
   "outputs": [],
   "source": [
    "#Based on total_open_amount we are dividing in quartiles\n",
    "x_train['AmountQuantile']= pd.qcut(x_train['total_open_amount'], q = 4, labels =[1,2,3,4])\n",
    "x_validation['AmountQuantile']= pd.qcut(x_validation['total_open_amount'], q = 4, labels =[1,2,3,4])\n",
    "x_test['AmountQuantile']= pd.qcut(x_test['total_open_amount'], q = 4, labels =[1,2,3,4])"
   ]
  },
  {
   "cell_type": "code",
   "execution_count": 348,
   "metadata": {},
   "outputs": [
    {
     "data": {
      "text/html": [
       "<div>\n",
       "<style scoped>\n",
       "    .dataframe tbody tr th:only-of-type {\n",
       "        vertical-align: middle;\n",
       "    }\n",
       "\n",
       "    .dataframe tbody tr th {\n",
       "        vertical-align: top;\n",
       "    }\n",
       "\n",
       "    .dataframe thead th {\n",
       "        text-align: right;\n",
       "    }\n",
       "</style>\n",
       "<table border=\"1\" class=\"dataframe\">\n",
       "  <thead>\n",
       "    <tr style=\"text-align: right;\">\n",
       "      <th></th>\n",
       "      <th>max</th>\n",
       "      <th>count</th>\n",
       "      <th>mean</th>\n",
       "    </tr>\n",
       "    <tr>\n",
       "      <th>AmountQuantile</th>\n",
       "      <th></th>\n",
       "      <th></th>\n",
       "      <th></th>\n",
       "    </tr>\n",
       "  </thead>\n",
       "  <tbody>\n",
       "    <tr>\n",
       "      <th>1</th>\n",
       "      <td>4462.24</td>\n",
       "      <td>8178</td>\n",
       "      <td>1510.471716</td>\n",
       "    </tr>\n",
       "    <tr>\n",
       "      <th>2</th>\n",
       "      <td>16850.42</td>\n",
       "      <td>8177</td>\n",
       "      <td>10728.639534</td>\n",
       "    </tr>\n",
       "    <tr>\n",
       "      <th>3</th>\n",
       "      <td>45313.82</td>\n",
       "      <td>8177</td>\n",
       "      <td>28684.590802</td>\n",
       "    </tr>\n",
       "    <tr>\n",
       "      <th>4</th>\n",
       "      <td>792010.97</td>\n",
       "      <td>8177</td>\n",
       "      <td>85805.125764</td>\n",
       "    </tr>\n",
       "  </tbody>\n",
       "</table>\n",
       "</div>"
      ],
      "text/plain": [
       "                      max  count          mean\n",
       "AmountQuantile                                \n",
       "1                 4462.24   8178   1510.471716\n",
       "2                16850.42   8177  10728.639534\n",
       "3                45313.82   8177  28684.590802\n",
       "4               792010.97   8177  85805.125764"
      ]
     },
     "execution_count": 348,
     "metadata": {},
     "output_type": "execute_result"
    }
   ],
   "source": [
    "x_train.groupby(\"AmountQuantile\")[\"total_open_amount\"].agg({\"mean\", \"count\",\"max\"})"
   ]
  },
  {
   "cell_type": "code",
   "execution_count": 349,
   "metadata": {},
   "outputs": [],
   "source": [
    "x_train['cust_number']=x_train['cust_number'].astype(str)"
   ]
  },
  {
   "cell_type": "code",
   "execution_count": 350,
   "metadata": {},
   "outputs": [
    {
     "data": {
      "text/html": [
       "<div>\n",
       "<style scoped>\n",
       "    .dataframe tbody tr th:only-of-type {\n",
       "        vertical-align: middle;\n",
       "    }\n",
       "\n",
       "    .dataframe tbody tr th {\n",
       "        vertical-align: top;\n",
       "    }\n",
       "\n",
       "    .dataframe thead th {\n",
       "        text-align: right;\n",
       "    }\n",
       "</style>\n",
       "<table border=\"1\" class=\"dataframe\">\n",
       "  <thead>\n",
       "    <tr style=\"text-align: right;\">\n",
       "      <th></th>\n",
       "      <th>business_code</th>\n",
       "      <th>cust_number</th>\n",
       "      <th>name_customer</th>\n",
       "      <th>CustNumber</th>\n",
       "      <th>clear_date</th>\n",
       "      <th>buisness_year</th>\n",
       "      <th>doc_id</th>\n",
       "      <th>posting_date</th>\n",
       "      <th>document_create_date.1</th>\n",
       "      <th>due_in_date</th>\n",
       "      <th>...</th>\n",
       "      <th>document type</th>\n",
       "      <th>total_open_amount</th>\n",
       "      <th>document_type_label</th>\n",
       "      <th>baseline_create_date</th>\n",
       "      <th>cust_payment_terms</th>\n",
       "      <th>month</th>\n",
       "      <th>dayofweek</th>\n",
       "      <th>isweekend</th>\n",
       "      <th>AmountQuantile</th>\n",
       "      <th>amtbucket</th>\n",
       "    </tr>\n",
       "  </thead>\n",
       "  <tbody>\n",
       "    <tr>\n",
       "      <th>33377</th>\n",
       "      <td>CA02</td>\n",
       "      <td>0100054173</td>\n",
       "      <td>DIA corporation</td>\n",
       "      <td>274</td>\n",
       "      <td>2019-09-25</td>\n",
       "      <td>2019.0</td>\n",
       "      <td>9.500000e+09</td>\n",
       "      <td>2019-03-29</td>\n",
       "      <td>2018-12-21</td>\n",
       "      <td>2018-12-31</td>\n",
       "      <td>...</td>\n",
       "      <td>1</td>\n",
       "      <td>255.00</td>\n",
       "      <td>1</td>\n",
       "      <td>1970-01-01 00:00:00.020181221</td>\n",
       "      <td>CA10</td>\n",
       "      <td>9</td>\n",
       "      <td>2</td>\n",
       "      <td>0</td>\n",
       "      <td>1</td>\n",
       "      <td>1</td>\n",
       "    </tr>\n",
       "    <tr>\n",
       "      <th>10048</th>\n",
       "      <td>U001</td>\n",
       "      <td>0200148860</td>\n",
       "      <td>DOLLA foundation</td>\n",
       "      <td>455</td>\n",
       "      <td>2019-01-14</td>\n",
       "      <td>2019.0</td>\n",
       "      <td>1.928540e+09</td>\n",
       "      <td>2018-12-30</td>\n",
       "      <td>2018-12-30</td>\n",
       "      <td>2019-01-14</td>\n",
       "      <td>...</td>\n",
       "      <td>0</td>\n",
       "      <td>16501.75</td>\n",
       "      <td>0</td>\n",
       "      <td>1970-01-01 00:00:00.020181230</td>\n",
       "      <td>NAA8</td>\n",
       "      <td>1</td>\n",
       "      <td>0</td>\n",
       "      <td>0</td>\n",
       "      <td>2</td>\n",
       "      <td>2</td>\n",
       "    </tr>\n",
       "    <tr>\n",
       "      <th>3172</th>\n",
       "      <td>U001</td>\n",
       "      <td>0200769623</td>\n",
       "      <td>WAL-MAR systems</td>\n",
       "      <td>781</td>\n",
       "      <td>2019-01-09</td>\n",
       "      <td>2019.0</td>\n",
       "      <td>1.928539e+09</td>\n",
       "      <td>2018-12-30</td>\n",
       "      <td>2018-12-30</td>\n",
       "      <td>2019-01-14</td>\n",
       "      <td>...</td>\n",
       "      <td>0</td>\n",
       "      <td>3424.07</td>\n",
       "      <td>0</td>\n",
       "      <td>1970-01-01 00:00:00.020181230</td>\n",
       "      <td>NAH4</td>\n",
       "      <td>1</td>\n",
       "      <td>2</td>\n",
       "      <td>0</td>\n",
       "      <td>1</td>\n",
       "      <td>1</td>\n",
       "    </tr>\n",
       "    <tr>\n",
       "      <th>6239</th>\n",
       "      <td>U001</td>\n",
       "      <td>0200759878</td>\n",
       "      <td>SA llc</td>\n",
       "      <td>760</td>\n",
       "      <td>2019-01-15</td>\n",
       "      <td>2019.0</td>\n",
       "      <td>1.928540e+09</td>\n",
       "      <td>2018-12-30</td>\n",
       "      <td>2018-12-30</td>\n",
       "      <td>2019-01-14</td>\n",
       "      <td>...</td>\n",
       "      <td>0</td>\n",
       "      <td>14257.87</td>\n",
       "      <td>0</td>\n",
       "      <td>1970-01-01 00:00:00.020181230</td>\n",
       "      <td>NAH4</td>\n",
       "      <td>1</td>\n",
       "      <td>1</td>\n",
       "      <td>0</td>\n",
       "      <td>2</td>\n",
       "      <td>2</td>\n",
       "    </tr>\n",
       "    <tr>\n",
       "      <th>31812</th>\n",
       "      <td>U001</td>\n",
       "      <td>0200762301</td>\n",
       "      <td>C&amp;S WH trust</td>\n",
       "      <td>765</td>\n",
       "      <td>2019-01-15</td>\n",
       "      <td>2019.0</td>\n",
       "      <td>1.928532e+09</td>\n",
       "      <td>2018-12-30</td>\n",
       "      <td>2018-12-30</td>\n",
       "      <td>2019-01-14</td>\n",
       "      <td>...</td>\n",
       "      <td>0</td>\n",
       "      <td>35530.13</td>\n",
       "      <td>0</td>\n",
       "      <td>1970-01-01 00:00:00.020181230</td>\n",
       "      <td>NAC6</td>\n",
       "      <td>1</td>\n",
       "      <td>1</td>\n",
       "      <td>0</td>\n",
       "      <td>3</td>\n",
       "      <td>2</td>\n",
       "    </tr>\n",
       "  </tbody>\n",
       "</table>\n",
       "<p>5 rows × 21 columns</p>\n",
       "</div>"
      ],
      "text/plain": [
       "      business_code cust_number     name_customer  CustNumber clear_date  \\\n",
       "33377          CA02  0100054173   DIA corporation         274 2019-09-25   \n",
       "10048          U001  0200148860  DOLLA foundation         455 2019-01-14   \n",
       "3172           U001  0200769623   WAL-MAR systems         781 2019-01-09   \n",
       "6239           U001  0200759878            SA llc         760 2019-01-15   \n",
       "31812          U001  0200762301      C&S WH trust         765 2019-01-15   \n",
       "\n",
       "       buisness_year        doc_id posting_date document_create_date.1  \\\n",
       "33377         2019.0  9.500000e+09   2019-03-29             2018-12-21   \n",
       "10048         2019.0  1.928540e+09   2018-12-30             2018-12-30   \n",
       "3172          2019.0  1.928539e+09   2018-12-30             2018-12-30   \n",
       "6239          2019.0  1.928540e+09   2018-12-30             2018-12-30   \n",
       "31812         2019.0  1.928532e+09   2018-12-30             2018-12-30   \n",
       "\n",
       "      due_in_date  ...  document type  total_open_amount  document_type_label  \\\n",
       "33377  2018-12-31  ...              1             255.00                    1   \n",
       "10048  2019-01-14  ...              0           16501.75                    0   \n",
       "3172   2019-01-14  ...              0            3424.07                    0   \n",
       "6239   2019-01-14  ...              0           14257.87                    0   \n",
       "31812  2019-01-14  ...              0           35530.13                    0   \n",
       "\n",
       "               baseline_create_date cust_payment_terms month  dayofweek  \\\n",
       "33377 1970-01-01 00:00:00.020181221               CA10     9          2   \n",
       "10048 1970-01-01 00:00:00.020181230               NAA8     1          0   \n",
       "3172  1970-01-01 00:00:00.020181230               NAH4     1          2   \n",
       "6239  1970-01-01 00:00:00.020181230               NAH4     1          1   \n",
       "31812 1970-01-01 00:00:00.020181230               NAC6     1          1   \n",
       "\n",
       "       isweekend  AmountQuantile amtbucket  \n",
       "33377          0               1         1  \n",
       "10048          0               2         2  \n",
       "3172           0               1         1  \n",
       "6239           0               2         2  \n",
       "31812          0               3         2  \n",
       "\n",
       "[5 rows x 21 columns]"
      ]
     },
     "execution_count": 350,
     "metadata": {},
     "output_type": "execute_result"
    }
   ],
   "source": [
    "#bining total_open_amount\n",
    "amtbins = [-1,5000,50000,200000,500000,1000000]\n",
    "labels =[1,2,3,4,5]\n",
    "x_train['amtbucket'] = pd.cut(x_train['total_open_amount'],amtbins,labels=labels)\n",
    "x_validation['amtbucket'] = pd.cut(x_validation['total_open_amount'],amtbins,labels=labels)\n",
    "x_test['amtbucket']=pd.cut(x_test['total_open_amount'],amtbins,labels=labels)\n",
    "x_train.head()\n"
   ]
  },
  {
   "cell_type": "code",
   "execution_count": 351,
   "metadata": {},
   "outputs": [
    {
     "data": {
      "text/html": [
       "<div>\n",
       "<style scoped>\n",
       "    .dataframe tbody tr th:only-of-type {\n",
       "        vertical-align: middle;\n",
       "    }\n",
       "\n",
       "    .dataframe tbody tr th {\n",
       "        vertical-align: top;\n",
       "    }\n",
       "\n",
       "    .dataframe thead th {\n",
       "        text-align: right;\n",
       "    }\n",
       "</style>\n",
       "<table border=\"1\" class=\"dataframe\">\n",
       "  <thead>\n",
       "    <tr style=\"text-align: right;\">\n",
       "      <th></th>\n",
       "      <th>business_code</th>\n",
       "      <th>cust_number</th>\n",
       "      <th>name_customer</th>\n",
       "      <th>CustNumber</th>\n",
       "      <th>clear_date</th>\n",
       "      <th>buisness_year</th>\n",
       "      <th>doc_id</th>\n",
       "      <th>posting_date</th>\n",
       "      <th>document_create_date.1</th>\n",
       "      <th>due_in_date</th>\n",
       "      <th>...</th>\n",
       "      <th>total_open_amount</th>\n",
       "      <th>document_type_label</th>\n",
       "      <th>baseline_create_date</th>\n",
       "      <th>cust_payment_terms</th>\n",
       "      <th>month</th>\n",
       "      <th>dayofweek</th>\n",
       "      <th>isweekend</th>\n",
       "      <th>AmountQuantile</th>\n",
       "      <th>amtbucket</th>\n",
       "      <th>bucket</th>\n",
       "    </tr>\n",
       "  </thead>\n",
       "  <tbody>\n",
       "    <tr>\n",
       "      <th>27461</th>\n",
       "      <td>U001</td>\n",
       "      <td>0200769623</td>\n",
       "      <td>WAL-MAR us</td>\n",
       "      <td>417</td>\n",
       "      <td>2019-10-28</td>\n",
       "      <td>2019.0</td>\n",
       "      <td>1.929984e+09</td>\n",
       "      <td>2019-10-09</td>\n",
       "      <td>2019-10-09</td>\n",
       "      <td>2019-10-24</td>\n",
       "      <td>...</td>\n",
       "      <td>806.58</td>\n",
       "      <td>0</td>\n",
       "      <td>1970-01-01 00:00:00.020191009</td>\n",
       "      <td>NAH4</td>\n",
       "      <td>10</td>\n",
       "      <td>0</td>\n",
       "      <td>0</td>\n",
       "      <td>1</td>\n",
       "      <td>1</td>\n",
       "      <td>1</td>\n",
       "    </tr>\n",
       "    <tr>\n",
       "      <th>13225</th>\n",
       "      <td>U013</td>\n",
       "      <td>0100009932</td>\n",
       "      <td>SYSCO IN in</td>\n",
       "      <td>13</td>\n",
       "      <td>2019-11-12</td>\n",
       "      <td>2019.0</td>\n",
       "      <td>1.991833e+09</td>\n",
       "      <td>2019-10-09</td>\n",
       "      <td>2019-10-09</td>\n",
       "      <td>2019-11-08</td>\n",
       "      <td>...</td>\n",
       "      <td>20084.19</td>\n",
       "      <td>0</td>\n",
       "      <td>1970-01-01 00:00:00.020191009</td>\n",
       "      <td>NAVE</td>\n",
       "      <td>11</td>\n",
       "      <td>1</td>\n",
       "      <td>0</td>\n",
       "      <td>3</td>\n",
       "      <td>2</td>\n",
       "      <td>1</td>\n",
       "    </tr>\n",
       "    <tr>\n",
       "      <th>16807</th>\n",
       "      <td>U001</td>\n",
       "      <td>0200777735</td>\n",
       "      <td>NASH  corp</td>\n",
       "      <td>429</td>\n",
       "      <td>2019-10-22</td>\n",
       "      <td>2019.0</td>\n",
       "      <td>1.929982e+09</td>\n",
       "      <td>2019-10-09</td>\n",
       "      <td>2019-10-09</td>\n",
       "      <td>2019-10-24</td>\n",
       "      <td>...</td>\n",
       "      <td>8314.38</td>\n",
       "      <td>0</td>\n",
       "      <td>1970-01-01 00:00:00.020191009</td>\n",
       "      <td>NAA8</td>\n",
       "      <td>10</td>\n",
       "      <td>1</td>\n",
       "      <td>0</td>\n",
       "      <td>2</td>\n",
       "      <td>2</td>\n",
       "      <td>0</td>\n",
       "    </tr>\n",
       "    <tr>\n",
       "      <th>44184</th>\n",
       "      <td>U001</td>\n",
       "      <td>0200769623</td>\n",
       "      <td>WAL-MAR us</td>\n",
       "      <td>417</td>\n",
       "      <td>2019-10-21</td>\n",
       "      <td>2019.0</td>\n",
       "      <td>1.929979e+09</td>\n",
       "      <td>2019-10-09</td>\n",
       "      <td>2019-10-09</td>\n",
       "      <td>2019-10-24</td>\n",
       "      <td>...</td>\n",
       "      <td>14503.97</td>\n",
       "      <td>0</td>\n",
       "      <td>1970-01-01 00:00:00.020191009</td>\n",
       "      <td>NAH4</td>\n",
       "      <td>10</td>\n",
       "      <td>0</td>\n",
       "      <td>0</td>\n",
       "      <td>2</td>\n",
       "      <td>2</td>\n",
       "      <td>0</td>\n",
       "    </tr>\n",
       "    <tr>\n",
       "      <th>8880</th>\n",
       "      <td>U001</td>\n",
       "      <td>0200792293</td>\n",
       "      <td>UNIFIE associates</td>\n",
       "      <td>465</td>\n",
       "      <td>2019-10-24</td>\n",
       "      <td>2019.0</td>\n",
       "      <td>1.929984e+09</td>\n",
       "      <td>2019-10-09</td>\n",
       "      <td>2019-10-09</td>\n",
       "      <td>2019-10-24</td>\n",
       "      <td>...</td>\n",
       "      <td>111402.02</td>\n",
       "      <td>0</td>\n",
       "      <td>1970-01-01 00:00:00.020191009</td>\n",
       "      <td>NAA8</td>\n",
       "      <td>10</td>\n",
       "      <td>3</td>\n",
       "      <td>0</td>\n",
       "      <td>4</td>\n",
       "      <td>3</td>\n",
       "      <td>1</td>\n",
       "    </tr>\n",
       "  </tbody>\n",
       "</table>\n",
       "<p>5 rows × 22 columns</p>\n",
       "</div>"
      ],
      "text/plain": [
       "      business_code cust_number      name_customer  CustNumber clear_date  \\\n",
       "27461          U001  0200769623         WAL-MAR us         417 2019-10-28   \n",
       "13225          U013  0100009932        SYSCO IN in          13 2019-11-12   \n",
       "16807          U001  0200777735         NASH  corp         429 2019-10-22   \n",
       "44184          U001  0200769623         WAL-MAR us         417 2019-10-21   \n",
       "8880           U001  0200792293  UNIFIE associates         465 2019-10-24   \n",
       "\n",
       "       buisness_year        doc_id posting_date document_create_date.1  \\\n",
       "27461         2019.0  1.929984e+09   2019-10-09             2019-10-09   \n",
       "13225         2019.0  1.991833e+09   2019-10-09             2019-10-09   \n",
       "16807         2019.0  1.929982e+09   2019-10-09             2019-10-09   \n",
       "44184         2019.0  1.929979e+09   2019-10-09             2019-10-09   \n",
       "8880          2019.0  1.929984e+09   2019-10-09             2019-10-09   \n",
       "\n",
       "      due_in_date  ...  total_open_amount  document_type_label  \\\n",
       "27461  2019-10-24  ...             806.58                    0   \n",
       "13225  2019-11-08  ...           20084.19                    0   \n",
       "16807  2019-10-24  ...            8314.38                    0   \n",
       "44184  2019-10-24  ...           14503.97                    0   \n",
       "8880   2019-10-24  ...          111402.02                    0   \n",
       "\n",
       "               baseline_create_date  cust_payment_terms month dayofweek  \\\n",
       "27461 1970-01-01 00:00:00.020191009                NAH4    10         0   \n",
       "13225 1970-01-01 00:00:00.020191009                NAVE    11         1   \n",
       "16807 1970-01-01 00:00:00.020191009                NAA8    10         1   \n",
       "44184 1970-01-01 00:00:00.020191009                NAH4    10         0   \n",
       "8880  1970-01-01 00:00:00.020191009                NAA8    10         3   \n",
       "\n",
       "       isweekend  AmountQuantile  amtbucket bucket  \n",
       "27461          0               1          1      1  \n",
       "13225          0               3          2      1  \n",
       "16807          0               2          2      0  \n",
       "44184          0               2          2      0  \n",
       "8880           0               4          3      1  \n",
       "\n",
       "[5 rows x 22 columns]"
      ]
     },
     "execution_count": 351,
     "metadata": {},
     "output_type": "execute_result"
    }
   ],
   "source": [
    "#binning delay_days\n",
    "bins = [-1000,-1, 15, 30, 45, 60, 1000000000]\n",
    "labels =[0,1,2,3,4,5]\n",
    "x_train['bucket'] = pd.cut(y_train, bins,labels=labels)\n",
    "x_validation['bucket'] = pd.cut(y_validation, bins,labels=labels)\n",
    "x_test['bucket']=pd.cut(y_test,bins,labels=labels)\n",
    "x_validation.head()"
   ]
  },
  {
   "cell_type": "code",
   "execution_count": 352,
   "metadata": {},
   "outputs": [],
   "source": [
    "LE = LabelEncoder()\n",
    "x_train['amtbucket'] = LE.fit_transform(x_train['amtbucket'])\n",
    "x_train['bucket'] = LE.fit_transform(x_train['bucket'])\n",
    "x_train['AmountQuantile'] = LE.fit_transform(x_train['AmountQuantile'])\n",
    "x_validation['amtbucket'] = LE.fit_transform(x_validation['amtbucket'])\n",
    "x_validation['bucket'] = LE.fit_transform(x_validation['bucket'])\n",
    "x_validation['AmountQuantile'] = LE.fit_transform(x_validation['AmountQuantile'])\n",
    "x_test['amtbucket'] = LE.fit_transform(x_test['amtbucket'])\n",
    "x_test['bucket'] = LE.fit_transform(x_test['bucket'])\n",
    "x_test['AmountQuantile'] = LE.fit_transform(x_test['AmountQuantile'])"
   ]
  },
  {
   "cell_type": "markdown",
   "metadata": {},
   "source": [
    "# FEATURE SELECTION\n"
   ]
  },
  {
   "cell_type": "code",
   "execution_count": 353,
   "metadata": {},
   "outputs": [
    {
     "name": "stdout",
     "output_type": "stream",
     "text": [
      "1\n"
     ]
    }
   ],
   "source": [
    "print(x_train['buisness_year'].nunique())\n"
   ]
  },
  {
   "cell_type": "code",
   "execution_count": 354,
   "metadata": {},
   "outputs": [],
   "source": [
    "# as we can see the distribution of buisness_year  column , it wont have effect on prediction,lets drop it"
   ]
  },
  {
   "cell_type": "code",
   "execution_count": 355,
   "metadata": {},
   "outputs": [],
   "source": [
    "x_train=x_train.drop(labels=['buisness_year'],axis=1)"
   ]
  },
  {
   "cell_type": "code",
   "execution_count": 356,
   "metadata": {},
   "outputs": [
    {
     "data": {
      "text/plain": [
       "Index(['business_code', 'cust_number', 'name_customer', 'CustNumber',\n",
       "       'clear_date', 'doc_id', 'posting_date', 'document_create_date.1',\n",
       "       'due_in_date', 'invoice_currency', 'document type', 'total_open_amount',\n",
       "       'document_type_label', 'baseline_create_date', 'cust_payment_terms',\n",
       "       'month', 'dayofweek', 'isweekend', 'AmountQuantile', 'amtbucket',\n",
       "       'bucket'],\n",
       "      dtype='object')"
      ]
     },
     "execution_count": 356,
     "metadata": {},
     "output_type": "execute_result"
    }
   ],
   "source": [
    "x_train.columns"
   ]
  },
  {
   "cell_type": "code",
   "execution_count": 357,
   "metadata": {},
   "outputs": [
    {
     "data": {
      "text/plain": [
       "<AxesSubplot:>"
      ]
     },
     "execution_count": 357,
     "metadata": {},
     "output_type": "execute_result"
    },
    {
     "data": {
      "image/png": "[encoded data removed]",
      "text/plain": [
       "<Figure size 1008x576 with 2 Axes>"
      ]
     },
     "metadata": {},
     "output_type": "display_data"
    }
   ],
   "source": [
    "#Correlation between various columns\n",
    "fig, ax = plt.subplots()\n",
    "fig.set_size_inches(14, 8)\n",
    "sns.heatmap(x_train.corr(),cmap='coolwarm',ax=ax,annot=True,linewidths=2)"
   ]
  },
  {
   "cell_type": "code",
   "execution_count": 358,
   "metadata": {},
   "outputs": [],
   "source": [
    "# we see that document_type and document_type_label is highly correlated "
   ]
  },
  {
   "cell_type": "code",
   "execution_count": 359,
   "metadata": {},
   "outputs": [],
   "source": [
    "#selecting features"
   ]
  },
  {
   "cell_type": "code",
   "execution_count": 360,
   "metadata": {},
   "outputs": [],
   "source": [
    "x_train1=x_train[['CustNumber','doc_id','total_open_amount','amtbucket','month','AmountQuantile','bucket','isweekend']].copy()"
   ]
  },
  {
   "cell_type": "code",
   "execution_count": 361,
   "metadata": {},
   "outputs": [],
   "source": [
    "x_validation1=x_validation[['CustNumber','doc_id','total_open_amount','amtbucket','month','AmountQuantile','bucket','isweekend']].copy()"
   ]
  },
  {
   "cell_type": "code",
   "execution_count": 362,
   "metadata": {},
   "outputs": [],
   "source": [
    "x_test1=x_test[['CustNumber','doc_id','total_open_amount','amtbucket','month','AmountQuantile','bucket','isweekend']].copy()"
   ]
  },
  {
   "cell_type": "code",
   "execution_count": 363,
   "metadata": {},
   "outputs": [],
   "source": [
    "x_train_new=x_train.copy()"
   ]
  },
  {
   "cell_type": "code",
   "execution_count": 364,
   "metadata": {},
   "outputs": [],
   "source": [
    "def handling_correlation(df,threshold=0.8):\n",
    "    # creating set to hold the correlated features\n",
    "    corr_features = set()\n",
    "    # create the correlation matrix (default to pearson)\n",
    "    corr_matrix = df.corr()\n",
    "    #code for selecting all correleated features\n",
    "    for i in range(len(corr_matrix .columns)):\n",
    "        for j in range(i):\n",
    "            if abs(corr_matrix.iloc[i, j]) >threshold:\n",
    "                colname = corr_matrix.columns[i]\n",
    "                corr_features.add(colname)\n",
    "    return list(corr_features)\n",
    "    "
   ]
  },
  {
   "cell_type": "code",
   "execution_count": 365,
   "metadata": {},
   "outputs": [
    {
     "data": {
      "text/plain": [
       "['AmountQuantile', 'amtbucket', 'doc_id']"
      ]
     },
     "execution_count": 365,
     "metadata": {},
     "output_type": "execute_result"
    }
   ],
   "source": [
    "handling_correlation(x_train1.copy(),0.3) "
   ]
  },
  {
   "cell_type": "code",
   "execution_count": 366,
   "metadata": {},
   "outputs": [
    {
     "name": "stdout",
     "output_type": "stream",
     "text": [
      "<class 'pandas.core.frame.DataFrame'>\n",
      "Int64Index: 32709 entries, 33377 to 15489\n",
      "Data columns (total 8 columns):\n",
      " #   Column             Non-Null Count  Dtype  \n",
      "---  ------             --------------  -----  \n",
      " 0   CustNumber         32709 non-null  int32  \n",
      " 1   doc_id             32709 non-null  float64\n",
      " 2   total_open_amount  32709 non-null  float64\n",
      " 3   amtbucket          32709 non-null  int64  \n",
      " 4   month              32709 non-null  int64  \n",
      " 5   AmountQuantile     32709 non-null  int64  \n",
      " 6   bucket             32709 non-null  int64  \n",
      " 7   isweekend          32709 non-null  int32  \n",
      "dtypes: float64(2), int32(2), int64(4)\n",
      "memory usage: 3.2 MB\n"
     ]
    }
   ],
   "source": [
    "x_train1.info()"
   ]
  },
  {
   "cell_type": "code",
   "execution_count": 367,
   "metadata": {},
   "outputs": [
    {
     "name": "stdout",
     "output_type": "stream",
     "text": [
      "<class 'pandas.core.frame.DataFrame'>\n",
      "Int64Index: 6927 entries, 38668 to 15517\n",
      "Data columns (total 8 columns):\n",
      " #   Column             Non-Null Count  Dtype  \n",
      "---  ------             --------------  -----  \n",
      " 0   CustNumber         6927 non-null   int32  \n",
      " 1   doc_id             6927 non-null   float64\n",
      " 2   total_open_amount  6927 non-null   float64\n",
      " 3   amtbucket          6927 non-null   int64  \n",
      " 4   month              6927 non-null   int64  \n",
      " 5   AmountQuantile     6927 non-null   int64  \n",
      " 6   bucket             6927 non-null   int64  \n",
      " 7   isweekend          6927 non-null   int32  \n",
      "dtypes: float64(2), int32(2), int64(4)\n",
      "memory usage: 432.9 KB\n"
     ]
    }
   ],
   "source": [
    "x_test1.info()"
   ]
  },
  {
   "cell_type": "code",
   "execution_count": 368,
   "metadata": {},
   "outputs": [],
   "source": [
    "def tree_based_feature_importance(x_train,y_train):\n",
    "    from sklearn.ensemble import RandomForestRegressor\n",
    "    # create the random forest model\n",
    "    model = RandomForestRegressor(n_estimators=130)\n",
    "\n",
    "    # fit the model to start training.\n",
    "    model.fit(x_train, y_train)\n",
    "\n",
    "    # get the importance of the resulting features.\n",
    "    importances = model.feature_importances_\n",
    "\n",
    "    # create a data frame for visualization.\n",
    "    final_df = pd.DataFrame({\"Features\": x_train.columns, \"Importances\":importances})\n",
    "    final_df.set_index('Importances')\n",
    "\n",
    "    # sort in descending order \n",
    "    final_df = final_df.sort_values('Importances',ascending=False)\n",
    "    \n",
    "    #visualising feature importance\n",
    "    pd.Series(model.feature_importances_, index=x_train.columns).nlargest(8).plot(kind='barh')  \n",
    "    return final_df"
   ]
  },
  {
   "cell_type": "code",
   "execution_count": 369,
   "metadata": {},
   "outputs": [
    {
     "data": {
      "image/png": "[encoded data removed]",
      "text/plain": [
       "<Figure size 432x288 with 1 Axes>"
      ]
     },
     "metadata": {},
     "output_type": "display_data"
    }
   ],
   "source": [
    "feature_importance=tree_based_feature_importance(x_train1,y_train)"
   ]
  },
  {
   "cell_type": "markdown",
   "metadata": {},
   "source": [
    "# MODELLING"
   ]
  },
  {
   "cell_type": "code",
   "execution_count": 370,
   "metadata": {},
   "outputs": [
    {
     "data": {
      "text/plain": [
       "array([-2,  2,  5,  0,  3,  1,  1,  6,  0, -1,  6,  1,  1, -1,  3, -8,  0,\n",
       "        2,  1,  0], dtype=int64)"
      ]
     },
     "execution_count": 370,
     "metadata": {},
     "output_type": "execute_result"
    }
   ],
   "source": [
    "# Fitting Random Forest Regressor Tree to the Training Set\n",
    "classifier = RandomForestClassifier()\n",
    "classifier.fit(x_train1, y_train)\n",
    "y_pred = classifier.predict(x_test1)\n",
    "y_pred[:20]\n"
   ]
  },
  {
   "cell_type": "code",
   "execution_count": 371,
   "metadata": {},
   "outputs": [
    {
     "data": {
      "text/plain": [
       "array([[0, 0, 0, ..., 0, 0, 0],\n",
       "       [0, 0, 0, ..., 0, 0, 0],\n",
       "       [0, 0, 0, ..., 0, 0, 0],\n",
       "       ...,\n",
       "       [0, 0, 0, ..., 0, 1, 0],\n",
       "       [0, 0, 0, ..., 0, 0, 0],\n",
       "       [0, 0, 0, ..., 0, 0, 0]], dtype=int64)"
      ]
     },
     "execution_count": 371,
     "metadata": {},
     "output_type": "execute_result"
    }
   ],
   "source": [
    "confusion_matrix(y_test, y_pred)"
   ]
  },
  {
   "cell_type": "code",
   "execution_count": 373,
   "metadata": {},
   "outputs": [],
   "source": [
    "# Calculating MSE_score and R2_score\n",
    "#MSE: Mean Square Error. (measure of how well a regression line fits the data points)\n",
    "#r2 score. (R-squared is a statistical measure of how close the data are to the fitted regression line.)\n",
    "MSE_Score=(mean_squared_error(y_test, y_pred))\n",
    "R2_Score=(r2_score(y_test, y_pred))"
   ]
  },
  {
   "cell_type": "code",
   "execution_count": 374,
   "metadata": {},
   "outputs": [
    {
     "name": "stdout",
     "output_type": "stream",
     "text": [
      "47.39223329002454\n"
     ]
    }
   ],
   "source": [
    "print(MSE_Score)"
   ]
  },
  {
   "cell_type": "code",
   "execution_count": 375,
   "metadata": {},
   "outputs": [
    {
     "name": "stdout",
     "output_type": "stream",
     "text": [
      "0.5570967633266569\n"
     ]
    }
   ],
   "source": [
    "print(R2_Score)"
   ]
  },
  {
   "cell_type": "code",
   "execution_count": null,
   "metadata": {},
   "outputs": [],
   "source": []
  },
  {
   "cell_type": "code",
   "execution_count": null,
   "metadata": {},
   "outputs": [],
   "source": []
  }
 ],
 "metadata": {
  "kernelspec": {
   "display_name": "Python 3",
   "language": "python",
   "name": "python3"
  },
  "language_info": {
   "codemirror_mode": {
    "name": "ipython",
    "version": 3
   },
   "file_extension": ".py",
   "mimetype": "text/x-python",
   "name": "python",
   "nbconvert_exporter": "python",
   "pygments_lexer": "ipython3",
   "version": "3.8.5"
  }
 },
 "nbformat": 4,
 "nbformat_minor": 4
}
